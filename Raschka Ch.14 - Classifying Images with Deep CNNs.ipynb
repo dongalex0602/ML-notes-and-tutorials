{
 "cells": [
  {
   "cell_type": "markdown",
   "id": "4eba9b08",
   "metadata": {},
   "source": [
    "# Task 1.\n",
    "Raschka book chapter 14 notes and tutorials"
   ]
  },
  {
   "cell_type": "markdown",
   "id": "d70bb69b",
   "metadata": {},
   "source": [
    "## The Building Blocks of CNNs"
   ]
  },
  {
   "cell_type": "markdown",
   "id": "8e5e9c0e",
   "metadata": {},
   "source": [
    "### Understanding CNNs and feature hierarchies"
   ]
  },
  {
   "cell_type": "markdown",
   "id": "9764a66f",
   "metadata": {},
   "source": [
    "It is common to consider CNN featuures as feature extractors. The early layers extract low-level features from raw data, and the later layers use these features to predict a continuous target value or class label.\n",
    "\n",
    "Certain types of multilayer NNs, and in particular, deep CNNs, construct a so-called **feature hierarchy** by combining the low-level features in a layer-wise fashion to for high-livel features. \n",
    "\n",
    "A CNN computes feature maps from an input image, where each element comes from a local patch of pixels in the input image. This local patch of pixels is referred to as the **local receptive field**. CNNs usually perform very well on image-related tasks, largely due to two important ideas:\n",
    "\n",
    "* **Sparse connectivity**: A single element in the feature map is connected to only a small patch of pixels.\n",
    "\n",
    "* **Parameter sharing**: The same weights are used for different patches of the input image.\n",
    "\n",
    "A consequence of these two ideas is that replacing a fully connected MLP with a convolutional layer substantially decreases the number of weights in the network, and we will see an improvement in the ability to capture salient features. For image data, it makes sense to assume that nearby pixels are more relevant to each other than pixels that are far away from each other.\n",
    "\n",
    "Typically, CNNs are composed of several convolutional and sub-sampling (pooling) layers that are followed by one or more fully connected layers at the end. The fully connected layers are essentially an MLP."
   ]
  },
  {
   "cell_type": "markdown",
   "id": "0b0cfcdc",
   "metadata": {},
   "source": [
    "### Performing discrete convolutions"
   ]
  },
  {
   "cell_type": "markdown",
   "id": "c1ee1538",
   "metadata": {},
   "source": [
    "A **discrete convolution** (or convolution) is a fundamental operation in a CNN."
   ]
  },
  {
   "cell_type": "markdown",
   "id": "85507c28",
   "metadata": {},
   "source": [
    "#### Discrete convolutions in one dimension"
   ]
  },
  {
   "cell_type": "markdown",
   "id": "c529ec90",
   "metadata": {},
   "source": [
    "A discrete convolution for vectors, $x$ and $w$, is denoted by $y = x \\ast w$. Here, $x$ is the input, and $w$ is the filter.\n",
    "\n",
    "A discrete convolution is mathematically defined as follows:\n",
    "$$\n",
    "y = x \\ast w \\rightarrow y[i] = \\sum_{k=-\\infty}^{+\\infty} x[i-k] w[k]\n",
    "$$\n",
    "Where brackets denote the indexing for vector elements.\n",
    "\n",
    "To correctly compute the summation in the preceding formular, it is assumed that $x$ and $w$ are filled with zeros. In practical situations, $x$ is only padded with a finite number of zeros.\n",
    "\n",
    "This process is called *zero-padding*. Consider an input $x$ and filter $w$ with $n$ and $m$ elements respectively, where $m \\leq n$. The padded vector, $x^p$, has size $n+2p$. The practical formular for computing the discrete convolution changes to the following:\n",
    "$$\n",
    "y = x \\ast w \\rightarrow y[1] = \\sum_{k=0}^{k=m-1} x^p[i+m-k] w[k]\n",
    "$$"
   ]
  },
  {
   "cell_type": "markdown",
   "id": "adbd7f2e",
   "metadata": {},
   "source": [
    "#### Padding inputs to control the size of the output feature maps"
   ]
  },
  {
   "cell_type": "markdown",
   "id": "5f57de08",
   "metadata": {},
   "source": [
    "Padding can be applied with any $p \\geq 0$. Depending on the choice on $p$, boundary cells may be treated differently than cells in the middle of $x$.\n",
    "\n",
    "There are three modes of padding that are commonly used in practive: *full*, *same*, and *valid*.\n",
    "* In full mode, $p=m-1$. Full padding increases the dimensions of the output and is therefore rarely used in CNN architectures.\n",
    "\n",
    "* In same padding mode, $p$ is computed according to the filter size, along with the requirement that the input size and output size are the same.\n",
    "\n",
    "* In valid mode, $p=0$, i.e., there is no padding."
   ]
  },
  {
   "cell_type": "markdown",
   "id": "c85b9798",
   "metadata": {},
   "source": [
    "#### Determining the  size of the convolution output"
   ]
  },
  {
   "cell_type": "markdown",
   "id": "7a5f9a79",
   "metadata": {},
   "source": [
    "The output size of a convolution is determined by the total number of times that we shift the filter, $w$, along the input vector."
   ]
  },
  {
   "cell_type": "markdown",
   "id": "1bb3cb5e",
   "metadata": {},
   "source": [
    "The following code is a naive implementation of how to compute a 1-D convolution. The results are compared with the ```np.convolve``` function."
   ]
  },
  {
   "cell_type": "code",
   "execution_count": 1,
   "id": "8851a53c",
   "metadata": {},
   "outputs": [],
   "source": [
    "import numpy as np"
   ]
  },
  {
   "cell_type": "code",
   "execution_count": 2,
   "id": "eeb1ea34",
   "metadata": {},
   "outputs": [
    {
     "name": "stdout",
     "output_type": "stream",
     "text": [
      "Conv1d Implementation: [ 5. 14. 16. 26. 24. 34. 19. 22.]\n",
      "Numpy Results: [ 5 14 16 26 24 34 19 22]\n"
     ]
    }
   ],
   "source": [
    "def conv1d(x, w, p=0, s=1):\n",
    "    w_rot = np.array(w[::-1])\n",
    "    x_padded = np.array(x)\n",
    "    if p > 0:\n",
    "        zero_pad = np.zeros(shape=p)\n",
    "        x_padded = np.concatenate(\n",
    "            [zero_pad, x_padded, zero_pad])\n",
    "    res = []\n",
    "    for i in range(0, int((len(x_padded) - len(w_rot))) + 1, s):\n",
    "        res.append(np.sum(\n",
    "            x_padded[i:i+w_rot.shape[0]] * w_rot))\n",
    "    return np.array(res)\n",
    "\n",
    "\n",
    "## Testing:\n",
    "x = [1, 3, 2, 4, 5, 6, 1, 3]\n",
    "w = [1, 0, 3, 1, 2]\n",
    "\n",
    "print('Conv1d Implementation:',\n",
    "      conv1d(x, w, p=2, s=1))\n",
    "\n",
    "print('Numpy Results:',\n",
    "      np.convolve(x, w, mode='same')) "
   ]
  },
  {
   "cell_type": "markdown",
   "id": "00080500",
   "metadata": {},
   "source": [
    "#### Performing a discrete convolution in 2D"
   ]
  },
  {
   "cell_type": "markdown",
   "id": "cb5767b8",
   "metadata": {},
   "source": [
    "When we deal with 2D inputs, such as a matrix, $X_{n_1 \\times n_2}$, and the filter matrix, $W_{m_1 \\times m_2}$, where $m_1 \\leq n_1$ and $m_2 \\leq n_2$, then the matrix $Y = X \\ast W$ is the result of a 2D convolution between X and W. This is defined mathematically as follows:\n",
    "$$\n",
    "Y = X \\ast W \\rightarrow Y[i, j] = \\sum_{k_1=-\\infty}^{+\\infty} \\sum_{k_2=-\\infty}^{+\\infty} X[i-k_1, j-k_2] w[k_1, k_2]\n",
    "$$\n"
   ]
  },
  {
   "cell_type": "markdown",
   "id": "6886d5c5",
   "metadata": {},
   "source": [
    "The following code implements 2D convolution according to the naive algorithm. The ```scipy.signal``` package provides a way to compute 2D convolution via the ```scipy.signal.convolve2d``` function:"
   ]
  },
  {
   "cell_type": "code",
   "execution_count": 3,
   "id": "4fa4a1ea",
   "metadata": {},
   "outputs": [],
   "source": [
    "import scipy.signal"
   ]
  },
  {
   "cell_type": "code",
   "execution_count": 4,
   "id": "364fe994",
   "metadata": {},
   "outputs": [
    {
     "name": "stdout",
     "output_type": "stream",
     "text": [
      "Conv2d Implementation:\n",
      " [[11. 25. 32. 13.]\n",
      " [19. 25. 24. 13.]\n",
      " [13. 28. 25. 17.]\n",
      " [11. 17. 14.  9.]]\n",
      "SciPy Results:\n",
      " [[11 25 32 13]\n",
      " [19 25 24 13]\n",
      " [13 28 25 17]\n",
      " [11 17 14  9]]\n"
     ]
    }
   ],
   "source": [
    "def conv2d(X, W, p=(0, 0), s=(1, 1)):\n",
    "    W_rot = np.array(W)[::-1,::-1]\n",
    "    X_orig = np.array(X)\n",
    "    n1 = X_orig.shape[0] + 2*p[0]\n",
    "    n2 = X_orig.shape[1] + 2*p[1]\n",
    "    X_padded = np.zeros(shape=(n1, n2))\n",
    "    X_padded[p[0]:p[0]+X_orig.shape[0],\n",
    "    p[1]:p[1]+X_orig.shape[1]] = X_orig\n",
    "\n",
    "    res = []\n",
    "    for i in range(0, int((X_padded.shape[0] - \n",
    "                           W_rot.shape[0])/s[0])+1, s[0]):\n",
    "        res.append([])\n",
    "        for j in range(0, int((X_padded.shape[1] - \n",
    "                               W_rot.shape[1])/s[1])+1, s[1]):\n",
    "            X_sub = X_padded[i:i+W_rot.shape[0],\n",
    "                             j:j+W_rot.shape[1]]\n",
    "            res[-1].append(np.sum(X_sub * W_rot))\n",
    "    return(np.array(res))\n",
    "\n",
    "X = [[1, 3, 2, 4], [5, 6, 1, 3], [1, 2, 0, 2], [3, 4, 3, 2]]\n",
    "W = [[1, 0, 3], [1, 2, 1], [0, 1, 1]]\n",
    "\n",
    "print('Conv2d Implementation:\\n',\n",
    "    conv2d(X, W, p=(1, 1), s=(1, 1)))\n",
    "\n",
    "\n",
    "print('SciPy Results:\\n',\n",
    "    scipy.signal.convolve2d(X, W, mode='same'))"
   ]
  },
  {
   "cell_type": "markdown",
   "id": "dd39fc16",
   "metadata": {},
   "source": [
    "### Subsampling layers"
   ]
  },
  {
   "cell_type": "markdown",
   "id": "d1f50607",
   "metadata": {},
   "source": [
    "Subsampling is typically applied in two forms of pooling operations in CNNs: max-pooling and mean-pooling. The size of the neighborhood where the max or mean operation is performed is called the ppoling size.\n",
    "\n",
    "Pooling has two main advantages:\n",
    "* Max-pooling introduces a local invariance. This means that small changes in a local neighborhood do not change the result of max-pooling.\n",
    "\n",
    "* Pooling decreases the size of features, which results in higher computational efficiency. Furthermore, reducing the number of features may reduce the degree of overfitting as well."
   ]
  },
  {
   "cell_type": "markdown",
   "id": "82d6f6ec",
   "metadata": {},
   "source": [
    "### Putting everything together — implementing a CNN"
   ]
  },
  {
   "cell_type": "markdown",
   "id": "916445b3",
   "metadata": {},
   "source": [
    "#### Working with multiple input or color channels"
   ]
  },
  {
   "cell_type": "markdown",
   "id": "0fbbe132",
   "metadata": {},
   "source": [
    "An input to a convolutional layer may contain one or more 2D arrays or matrices with dimensions $N_1×N_2$.  These $N_1×N_2$ matrices are called channels. Conventional implementations of convolutional layers expect a rank-3 tensor representation as an input, for example, a three-dimensional array, $X_{N_1 \\times N_2 \\times C_{in}}$, where $C_{in}$ is the number of input channels. If the image is colored and uses the RGB color mode, then $C_{in} = 3$ (for the red, green, and blue color channels in RGB). However, if the image is in grayscale, then we have $C_{in} = 1$, because there is only one channel with the grayscale pixel intensity values.\n",
    "\n",
    "To incorporate multiple input channels in the convolution operation, we perform the convolution operation for each channel separately and then matrix sum the results together."
   ]
  },
  {
   "cell_type": "markdown",
   "id": "351ef274",
   "metadata": {},
   "source": [
    "#### Regularizing an NN with L2 regularization and dropout"
   ]
  },
  {
   "cell_type": "markdown",
   "id": "4eb7a657",
   "metadata": {},
   "source": [
    "To use L2 regularization within a convolutional or fully connected network, you add the L2 penalty of a particular layer to the loss function in PyTorch, as follows:"
   ]
  },
  {
   "cell_type": "code",
   "execution_count": 7,
   "id": "e044c37a",
   "metadata": {},
   "outputs": [],
   "source": [
    "import torch\n",
    "import torch.nn as nn"
   ]
  },
  {
   "cell_type": "code",
   "execution_count": 8,
   "id": "2d735976",
   "metadata": {},
   "outputs": [],
   "source": [
    "loss_func = nn.BCELoss()\n",
    "loss = loss_func(torch.tensor([0.9]), torch.tensor([1.0]))\n",
    "l2_lambda = 0.001\n",
    "\n",
    "conv_layer = nn.Conv2d(in_channels=3, out_channels=5, kernel_size=5)\n",
    "l2_penalty = l2_lambda * sum([(p**2).sum() for p in conv_layer.parameters()])\n",
    "loss_with_penalty = loss + l2_penalty\n",
    "\n",
    "linear_layer = nn.Linear(10, 16)\n",
    "l2_penalty = l2_lambda * sum([(p**2).sum() for p in linear_layer.parameters()])\n",
    "loss_with_penalty = loss + l2_penalty"
   ]
  },
  {
   "cell_type": "markdown",
   "id": "d1cdfd68",
   "metadata": {},
   "source": [
    "Dropout is another popular technique for regularizing (deep) NNs. Dropout is usually applied to the hidden units of higher layers and works as follows: during the training phase of an NN, a fraction of the hidden units is randomly dropped at every iteration with probability $p_{drop}$. This dropout probability is determined by the user and the common choice is $p = 0.5$.  When dropping a certain fraction of input neurons, the weights associated with the remaining neurons are rescaled to account for the dropped neurons. Dropout can be interpreted as the consensus of an ensemble of models."
   ]
  },
  {
   "cell_type": "markdown",
   "id": "ba72a2aa",
   "metadata": {},
   "source": [
    "### Loss functions for classification"
   ]
  },
  {
   "cell_type": "markdown",
   "id": "9853b569",
   "metadata": {},
   "source": [
    "*Binary cross-entropy* is the loss function for a binary classification and *categorical cross-entropy* is the loss function for multiclass classification.\n",
    "\n",
    "Computing the cross-entropy loss by providing the logits, and not the class-membership probabilities, is usually preferred due to numerical stability reasons."
   ]
  },
  {
   "cell_type": "markdown",
   "id": "1b4bbd2b",
   "metadata": {},
   "source": [
    "The following code will shows how to use loss functions with two different formats, where either the logits or class-membership probabilities are given as inputs to the loss functions:"
   ]
  },
  {
   "cell_type": "code",
   "execution_count": 9,
   "id": "476310f7",
   "metadata": {},
   "outputs": [
    {
     "name": "stdout",
     "output_type": "stream",
     "text": [
      "BCE (w Probas): 0.3711\n",
      "BCE (w Logits): 0.3711\n",
      "CCE (w Logits): 0.5996\n",
      "CCE (w Probas): 0.5996\n"
     ]
    }
   ],
   "source": [
    "####### Binary Cross-entropy\n",
    "logits = torch.tensor([0.8])\n",
    "probas = torch.sigmoid(logits)\n",
    "target = torch.tensor([1.0])\n",
    "\n",
    "bce_loss_fn = nn.BCELoss()\n",
    "bce_logits_loss_fn = nn.BCEWithLogitsLoss()\n",
    "\n",
    "print(f'BCE (w Probas): {bce_loss_fn(probas, target):.4f}')\n",
    "print(f'BCE (w Logits): {bce_logits_loss_fn(logits, target):.4f}')\n",
    "\n",
    " \n",
    "####### Categorical Cross-entropy\n",
    "logits = torch.tensor([[1.5, 0.8, 2.1]])\n",
    "probas = torch.softmax(logits, dim=1)\n",
    "target = torch.tensor([2])\n",
    "\n",
    "cce_loss_fn = nn.NLLLoss()\n",
    "cce_logits_loss_fn = nn.CrossEntropyLoss()\n",
    "\n",
    "print(f'CCE (w Logits): {cce_logits_loss_fn(logits, target):.4f}')\n",
    "print(f'CCE (w Probas): {cce_loss_fn(torch.log(probas), target):.4f}')"
   ]
  },
  {
   "cell_type": "markdown",
   "id": "daaa31a2",
   "metadata": {},
   "source": [
    "## Implementing a deep CNN using PyTorch"
   ]
  },
  {
   "cell_type": "markdown",
   "id": "f253bc9f",
   "metadata": {},
   "source": [
    "### Loading MNIST dataset"
   ]
  },
  {
   "cell_type": "code",
   "execution_count": 11,
   "id": "9b86ea59",
   "metadata": {},
   "outputs": [],
   "source": [
    "import torchvision\n",
    "from torchvision import transforms"
   ]
  },
  {
   "cell_type": "code",
   "execution_count": 12,
   "id": "554b0018",
   "metadata": {},
   "outputs": [],
   "source": [
    "image_path = './'\n",
    "transform = transforms.Compose([transforms.ToTensor()])\n",
    "\n",
    "mnist_dataset = torchvision.datasets.MNIST(root=image_path, \n",
    "                                           train=True, \n",
    "                                           transform=transform, \n",
    "                                           download=True)\n",
    "\n",
    "from torch.utils.data import Subset\n",
    "mnist_valid_dataset = Subset(mnist_dataset, torch.arange(10000)) \n",
    "mnist_train_dataset = Subset(mnist_dataset, torch.arange(10000, len(mnist_dataset)))\n",
    "mnist_test_dataset = torchvision.datasets.MNIST(root=image_path, \n",
    "                                           train=False, \n",
    "                                           transform=transform, \n",
    "                                           download=False)"
   ]
  },
  {
   "cell_type": "markdown",
   "id": "ae5229ea",
   "metadata": {},
   "source": [
    "### Develop a deep NN model to classify MNIST digits"
   ]
  },
  {
   "cell_type": "code",
   "execution_count": 15,
   "id": "37b8f16f",
   "metadata": {},
   "outputs": [],
   "source": [
    "from torch.utils.data import DataLoader"
   ]
  },
  {
   "cell_type": "code",
   "execution_count": 24,
   "id": "67865785",
   "metadata": {},
   "outputs": [],
   "source": [
    "# create dataloaders\n",
    "batch_size = 64\n",
    "torch.manual_seed(1)\n",
    "\n",
    "train_dl = DataLoader(mnist_train_dataset, batch_size, shuffle=True)\n",
    "valid_dl = DataLoader(mnist_valid_dataset, batch_size, shuffle=True)\n",
    "test_dl = DataLoader(mnist_test_dataset, batch_size, shuffle=True)"
   ]
  },
  {
   "cell_type": "code",
   "execution_count": 25,
   "id": "ac7cec4c",
   "metadata": {},
   "outputs": [
    {
     "data": {
      "text/plain": [
       "NeuralNetwork(\n",
       "  (flatten): Flatten(start_dim=1, end_dim=-1)\n",
       "  (linear_relu_stack): Sequential(\n",
       "    (0): Linear(in_features=784, out_features=32, bias=True)\n",
       "    (1): Tanh()\n",
       "    (2): Linear(in_features=32, out_features=32, bias=True)\n",
       "    (3): Tanh()\n",
       "    (4): Linear(in_features=32, out_features=16, bias=True)\n",
       "    (5): Tanh()\n",
       "    (6): Linear(in_features=16, out_features=10, bias=True)\n",
       "  )\n",
       ")"
      ]
     },
     "execution_count": 25,
     "metadata": {},
     "output_type": "execute_result"
    }
   ],
   "source": [
    "# construct deep NN\n",
    "class NeuralNetwork(nn.Module):\n",
    "    def __init__(self):\n",
    "        super(NeuralNetwork, self).__init__()\n",
    "        self.flatten = nn.Flatten()\n",
    "        self.linear_relu_stack = nn.Sequential(\n",
    "            nn.Linear(28*28, 32), \n",
    "            nn.Tanh(), \n",
    "            nn.Linear(32, 32), \n",
    "            nn.Tanh(), \n",
    "            nn.Linear(32, 16), \n",
    "            nn.Tanh(), \n",
    "            nn.Linear(16, 10)\n",
    "        )\n",
    "\n",
    "    def forward(self, x):\n",
    "        x = self.flatten(x)\n",
    "        logits = self.linear_relu_stack(x)\n",
    "        return logits\n",
    "\n",
    "nn_model = NeuralNetwork()\n",
    "nn_model"
   ]
  },
  {
   "cell_type": "code",
   "execution_count": 26,
   "id": "937bf143",
   "metadata": {},
   "outputs": [],
   "source": [
    "# function to train and evaluate the model\n",
    "def train_and_validate(model, train_dl, valid_dl, optimizer, loss_fn, num_epochs=20):\n",
    "    \n",
    "    acc_hist_train = [0] * num_epochs\n",
    "    loss_hist_train = [0] * num_epochs\n",
    "    acc_hist_valid = [0] * num_epochs\n",
    "    loss_hist_valid = [0] * num_epochs\n",
    "    \n",
    "    for epoch in range(num_epochs):\n",
    "        # Training loop\n",
    "        acc_train = 0\n",
    "        loss_train = 0\n",
    "        for x_batch, y_batch in train_dl:\n",
    "            pred = model(x_batch)\n",
    "            loss = loss_fn(pred, y_batch)\n",
    "            loss.backward()\n",
    "            optimizer.step()\n",
    "            optimizer.zero_grad()\n",
    "            is_correct = (torch.argmax(pred, dim=1) == y_batch).float()\n",
    "            acc_train += is_correct.sum()\n",
    "            loss_train += loss.item() * x_batch.size(0)  # accumulate loss\n",
    "        acc_train /= len(train_dl.dataset)\n",
    "        loss_train /= len(train_dl.dataset)\n",
    "        \n",
    "        # store accuracy and loss history\n",
    "        acc_hist_train[epoch] = acc_train\n",
    "        loss_hist_train[epoch] = loss_train\n",
    "\n",
    "        # Validation loop\n",
    "        acc_valid = 0\n",
    "        loss_valid = 0\n",
    "        with torch.no_grad():\n",
    "            for x_batch, y_batch in valid_dl:\n",
    "                pred = model(x_batch)\n",
    "                loss = loss_fn(pred, y_batch)\n",
    "                is_correct = (torch.argmax(pred, dim=1) == y_batch).float()\n",
    "                acc_valid += is_correct.sum()\n",
    "                loss_valid += loss.item() * x_batch.size(0)\n",
    "            acc_valid /= len(valid_dl.dataset)\n",
    "            loss_valid /= len(valid_dl.dataset)\n",
    "        \n",
    "        # store accuracy and loss history\n",
    "        acc_hist_valid[epoch] = acc_valid\n",
    "        loss_hist_valid[epoch] = loss_valid\n",
    "        \n",
    "        print(f'Epoch [{epoch+1:0>2}/{num_epochs}], Train Loss: {loss_train:.4f}, Train Acc: {acc_train:.4f}, Valid Loss: {loss_valid:.4f}, Valid Acc: {acc_valid:.4f}')\n",
    "        \n",
    "    return acc_hist_train, loss_hist_train, acc_hist_valid, loss_hist_valid"
   ]
  },
  {
   "cell_type": "code",
   "execution_count": 27,
   "id": "217beb2f",
   "metadata": {},
   "outputs": [
    {
     "name": "stdout",
     "output_type": "stream",
     "text": [
      "Epoch [01/20], Train Loss: 0.6349, Train Acc: 0.8411, Valid Loss: 0.2749, Valid Acc: 0.9293\n",
      "Epoch [02/20], Train Loss: 0.2158, Train Acc: 0.9411, Valid Loss: 0.1869, Valid Acc: 0.9484\n",
      "Epoch [03/20], Train Loss: 0.1618, Train Acc: 0.9542, Valid Loss: 0.1596, Valid Acc: 0.9543\n",
      "Epoch [04/20], Train Loss: 0.1324, Train Acc: 0.9627, Valid Loss: 0.1561, Valid Acc: 0.9561\n",
      "Epoch [05/20], Train Loss: 0.1142, Train Acc: 0.9680, Valid Loss: 0.1436, Valid Acc: 0.9597\n",
      "Epoch [06/20], Train Loss: 0.1009, Train Acc: 0.9708, Valid Loss: 0.1445, Valid Acc: 0.9585\n",
      "Epoch [07/20], Train Loss: 0.0914, Train Acc: 0.9739, Valid Loss: 0.1349, Valid Acc: 0.9611\n",
      "Epoch [08/20], Train Loss: 0.0831, Train Acc: 0.9763, Valid Loss: 0.1389, Valid Acc: 0.9596\n",
      "Epoch [09/20], Train Loss: 0.0745, Train Acc: 0.9781, Valid Loss: 0.1375, Valid Acc: 0.9620\n",
      "Epoch [10/20], Train Loss: 0.0702, Train Acc: 0.9795, Valid Loss: 0.1472, Valid Acc: 0.9602\n",
      "Epoch [11/20], Train Loss: 0.0634, Train Acc: 0.9814, Valid Loss: 0.1461, Valid Acc: 0.9594\n",
      "Epoch [12/20], Train Loss: 0.0594, Train Acc: 0.9831, Valid Loss: 0.1398, Valid Acc: 0.9629\n",
      "Epoch [13/20], Train Loss: 0.0537, Train Acc: 0.9844, Valid Loss: 0.1450, Valid Acc: 0.9622\n",
      "Epoch [14/20], Train Loss: 0.0520, Train Acc: 0.9849, Valid Loss: 0.1407, Valid Acc: 0.9639\n",
      "Epoch [15/20], Train Loss: 0.0468, Train Acc: 0.9867, Valid Loss: 0.1493, Valid Acc: 0.9607\n",
      "Epoch [16/20], Train Loss: 0.0456, Train Acc: 0.9868, Valid Loss: 0.1433, Valid Acc: 0.9648\n",
      "Epoch [17/20], Train Loss: 0.0410, Train Acc: 0.9884, Valid Loss: 0.1513, Valid Acc: 0.9628\n",
      "Epoch [18/20], Train Loss: 0.0399, Train Acc: 0.9883, Valid Loss: 0.1505, Valid Acc: 0.9621\n",
      "Epoch [19/20], Train Loss: 0.0374, Train Acc: 0.9891, Valid Loss: 0.1456, Valid Acc: 0.9639\n",
      "Epoch [20/20], Train Loss: 0.0341, Train Acc: 0.9906, Valid Loss: 0.1502, Valid Acc: 0.9633\n"
     ]
    }
   ],
   "source": [
    "# evaluate the model\n",
    "loss_fn = nn.CrossEntropyLoss()\n",
    "learning_rate = 0.001\n",
    "optimizer = torch.optim.Adam(nn_model.parameters(), lr=learning_rate)\n",
    "\n",
    "ah_train, lh_train, ah_valid, lh_valid = train_and_validate(nn_model, train_dl, valid_dl, optimizer, loss_fn)"
   ]
  },
  {
   "cell_type": "markdown",
   "id": "0622e7d0",
   "metadata": {},
   "source": [
    "### Develop a deep CNN model to classify MNIST digits"
   ]
  },
  {
   "cell_type": "code",
   "execution_count": 30,
   "id": "9818ac99",
   "metadata": {},
   "outputs": [],
   "source": [
    "# construct the CNN model\n",
    "model = nn.Sequential()\n",
    "model.add_module('conv1', nn.Conv2d(in_channels=1, out_channels=32, kernel_size=5, padding=2))\n",
    "model.add_module('relu1', nn.ReLU())        \n",
    "model.add_module('pool1', nn.MaxPool2d(kernel_size=2))   \n",
    "model.add_module('conv2', nn.Conv2d(in_channels=32, out_channels=64, kernel_size=5, padding=2))\n",
    "model.add_module('relu2', nn.ReLU())        \n",
    "model.add_module('pool2', nn.MaxPool2d(kernel_size=2))      "
   ]
  },
  {
   "cell_type": "code",
   "execution_count": 31,
   "id": "9f1696de",
   "metadata": {},
   "outputs": [
    {
     "data": {
      "text/plain": [
       "torch.Size([4, 64, 7, 7])"
      ]
     },
     "execution_count": 31,
     "metadata": {},
     "output_type": "execute_result"
    }
   ],
   "source": [
    "# calculate the size of the feature maps\n",
    "x = torch.ones((4, 1, 28, 28))\n",
    "model(x).shape"
   ]
  },
  {
   "cell_type": "code",
   "execution_count": 32,
   "id": "10bca08e",
   "metadata": {},
   "outputs": [
    {
     "data": {
      "text/plain": [
       "torch.Size([4, 3136])"
      ]
     },
     "execution_count": 32,
     "metadata": {},
     "output_type": "execute_result"
    }
   ],
   "source": [
    "# flatten the output of the previous layer to\n",
    "# prepare it for the fully connected layer\n",
    "model.add_module('flatten', nn.Flatten()) \n",
    "\n",
    "x = torch.ones((4, 1, 28, 28))\n",
    "model(x).shape"
   ]
  },
  {
   "cell_type": "code",
   "execution_count": 34,
   "id": "05b5c349",
   "metadata": {},
   "outputs": [],
   "source": [
    "# add two fully connected layers with a dropout layer in between\n",
    "model.add_module('fc1', nn.Linear(3136, 1024)) \n",
    "model.add_module('relu3', nn.ReLU()) \n",
    "model.add_module('dropout', nn.Dropout(p=0.5)) \n",
    "\n",
    "model.add_module('fc2', nn.Linear(1024, 10))"
   ]
  },
  {
   "cell_type": "code",
   "execution_count": 38,
   "id": "af8f8214",
   "metadata": {},
   "outputs": [],
   "source": [
    "device = \"cuda\" if torch.cuda.is_available() else \"cpu\"\n",
    "model = model.to(device) "
   ]
  },
  {
   "cell_type": "code",
   "execution_count": 39,
   "id": "1c25100b",
   "metadata": {},
   "outputs": [
    {
     "name": "stdout",
     "output_type": "stream",
     "text": [
      "Epoch 1 accuracy: 0.9503 val_accuracy: 0.9777\n",
      "Epoch 2 accuracy: 0.9849 val_accuracy: 0.9865\n",
      "Epoch 3 accuracy: 0.9881 val_accuracy: 0.9891\n",
      "Epoch 4 accuracy: 0.9915 val_accuracy: 0.9904\n",
      "Epoch 5 accuracy: 0.9930 val_accuracy: 0.9896\n",
      "Epoch 6 accuracy: 0.9944 val_accuracy: 0.9915\n",
      "Epoch 7 accuracy: 0.9950 val_accuracy: 0.9915\n",
      "Epoch 8 accuracy: 0.9959 val_accuracy: 0.9914\n",
      "Epoch 9 accuracy: 0.9966 val_accuracy: 0.9906\n",
      "Epoch 10 accuracy: 0.9964 val_accuracy: 0.9915\n",
      "Epoch 11 accuracy: 0.9967 val_accuracy: 0.9914\n",
      "Epoch 12 accuracy: 0.9975 val_accuracy: 0.9908\n",
      "Epoch 13 accuracy: 0.9972 val_accuracy: 0.9916\n",
      "Epoch 14 accuracy: 0.9979 val_accuracy: 0.9900\n",
      "Epoch 15 accuracy: 0.9976 val_accuracy: 0.9927\n",
      "Epoch 16 accuracy: 0.9987 val_accuracy: 0.9916\n",
      "Epoch 17 accuracy: 0.9970 val_accuracy: 0.9919\n",
      "Epoch 18 accuracy: 0.9984 val_accuracy: 0.9916\n",
      "Epoch 19 accuracy: 0.9985 val_accuracy: 0.9911\n",
      "Epoch 20 accuracy: 0.9979 val_accuracy: 0.9916\n"
     ]
    }
   ],
   "source": [
    "# evaluate the model\n",
    "loss_fn = nn.CrossEntropyLoss()\n",
    "optimizer = torch.optim.Adam(model.parameters(), lr=0.001)\n",
    "\n",
    "def train(model, num_epochs, train_dl, valid_dl):\n",
    "    loss_hist_train = [0] * num_epochs\n",
    "    accuracy_hist_train = [0] * num_epochs\n",
    "    loss_hist_valid = [0] * num_epochs\n",
    "    accuracy_hist_valid = [0] * num_epochs\n",
    "    for epoch in range(num_epochs):\n",
    "        model.train()\n",
    "        for x_batch, y_batch in train_dl:\n",
    "            x_batch = x_batch.to(device) \n",
    "            y_batch = y_batch.to(device) \n",
    "            pred = model(x_batch)\n",
    "            loss = loss_fn(pred, y_batch)\n",
    "            loss.backward()\n",
    "            optimizer.step()\n",
    "            optimizer.zero_grad()\n",
    "            loss_hist_train[epoch] += loss.item()*y_batch.size(0)\n",
    "            is_correct = (torch.argmax(pred, dim=1) == y_batch).float()\n",
    "            accuracy_hist_train[epoch] += is_correct.sum().cpu()\n",
    "\n",
    "        loss_hist_train[epoch] /= len(train_dl.dataset)\n",
    "        accuracy_hist_train[epoch] /= len(train_dl.dataset)\n",
    "        \n",
    "        model.eval()\n",
    "        with torch.no_grad():\n",
    "            for x_batch, y_batch in valid_dl:\n",
    "                x_batch = x_batch.to(device) \n",
    "                y_batch = y_batch.to(device) \n",
    "                pred = model(x_batch)\n",
    "                loss = loss_fn(pred, y_batch)\n",
    "                loss_hist_valid[epoch] += loss.item()*y_batch.size(0) \n",
    "                is_correct = (torch.argmax(pred, dim=1) == y_batch).float() \n",
    "                accuracy_hist_valid[epoch] += is_correct.sum().cpu()\n",
    "\n",
    "        loss_hist_valid[epoch] /= len(valid_dl.dataset)\n",
    "        accuracy_hist_valid[epoch] /= len(valid_dl.dataset)\n",
    "        \n",
    "        print(f'Epoch {epoch+1} accuracy: {accuracy_hist_train[epoch]:.4f} val_accuracy: {accuracy_hist_valid[epoch]:.4f}')\n",
    "    return loss_hist_train, loss_hist_valid, accuracy_hist_train, accuracy_hist_valid\n",
    "\n",
    "torch.manual_seed(1)\n",
    "num_epochs = 20\n",
    "hist = train(model, num_epochs, train_dl, valid_dl)"
   ]
  },
  {
   "cell_type": "code",
   "execution_count": 40,
   "id": "7c0e6149",
   "metadata": {},
   "outputs": [
    {
     "data": {
      "image/png": "[encoded data removed]",
      "text/plain": [
       "<Figure size 864x288 with 2 Axes>"
      ]
     },
     "metadata": {
      "needs_background": "light"
     },
     "output_type": "display_data"
    }
   ],
   "source": [
    "# visualize learning curves\n",
    "import matplotlib.pyplot as plt\n",
    "\n",
    "x_arr = np.arange(len(hist[0])) + 1\n",
    "\n",
    "fig = plt.figure(figsize=(12, 4))\n",
    "ax = fig.add_subplot(1, 2, 1)\n",
    "ax.plot(x_arr, hist[0], '-o', label='Train loss')\n",
    "ax.plot(x_arr, hist[1], '--<', label='Validation loss')\n",
    "ax.set_xlabel('Epoch', size=15)\n",
    "ax.set_ylabel('Loss', size=15)\n",
    "ax.legend(fontsize=15)\n",
    "ax = fig.add_subplot(1, 2, 2)\n",
    "ax.plot(x_arr, hist[2], '-o', label='Train acc.')\n",
    "ax.plot(x_arr, hist[3], '--<', label='Validation acc.')\n",
    "ax.legend(fontsize=15)\n",
    "ax.set_xlabel('Epoch', size=15)\n",
    "ax.set_ylabel('Accuracy', size=15)\n",
    "\n",
    "plt.show()"
   ]
  },
  {
   "cell_type": "markdown",
   "id": "1c66f239",
   "metadata": {},
   "source": [
    "### Explore how dropout would affect CNN model’s performance"
   ]
  },
  {
   "cell_type": "markdown",
   "id": "9c1277d9",
   "metadata": {},
   "source": [
    "The previous model implemented dropout, so I will now train the model wihtout dropout and see if there is a difference."
   ]
  },
  {
   "cell_type": "code",
   "execution_count": 30,
   "id": "363106db",
   "metadata": {},
   "outputs": [],
   "source": [
    "# construct the CNN model\n",
    "model = nn.Sequential()\n",
    "model.add_module('conv1', nn.Conv2d(in_channels=1, out_channels=32, kernel_size=5, padding=2))\n",
    "model.add_module('relu1', nn.ReLU())        \n",
    "model.add_module('pool1', nn.MaxPool2d(kernel_size=2))   \n",
    "model.add_module('conv2', nn.Conv2d(in_channels=32, out_channels=64, kernel_size=5, padding=2))\n",
    "model.add_module('relu2', nn.ReLU())        \n",
    "model.add_module('pool2', nn.MaxPool2d(kernel_size=2))      "
   ]
  },
  {
   "cell_type": "code",
   "execution_count": 41,
   "id": "a987c7a4",
   "metadata": {},
   "outputs": [
    {
     "data": {
      "text/plain": [
       "torch.Size([4, 10])"
      ]
     },
     "execution_count": 41,
     "metadata": {},
     "output_type": "execute_result"
    }
   ],
   "source": [
    "# flatten the output of the previous layer to\n",
    "# prepare it for the fully connected layer\n",
    "model.add_module('flatten', nn.Flatten()) \n",
    "\n",
    "x = torch.ones((4, 1, 28, 28))\n",
    "model(x).shape"
   ]
  },
  {
   "cell_type": "code",
   "execution_count": 42,
   "id": "e48a765a",
   "metadata": {},
   "outputs": [],
   "source": [
    "# add two fully connected layers with no dropout layer in between\n",
    "model.add_module('fc1', nn.Linear(3136, 1024)) \n",
    "model.add_module('relu3', nn.ReLU()) \n",
    "model.add_module('fc2', nn.Linear(1024, 10))"
   ]
  },
  {
   "cell_type": "code",
   "execution_count": 43,
   "id": "cec58902",
   "metadata": {},
   "outputs": [],
   "source": [
    "device = \"cuda\" if torch.cuda.is_available() else \"cpu\"\n",
    "model = model.to(device) "
   ]
  },
  {
   "cell_type": "code",
   "execution_count": 44,
   "id": "5ab9421e",
   "metadata": {},
   "outputs": [
    {
     "name": "stdout",
     "output_type": "stream",
     "text": [
      "Epoch 1 accuracy: 0.9855 val_accuracy: 0.9896\n",
      "Epoch 2 accuracy: 0.9956 val_accuracy: 0.9896\n",
      "Epoch 3 accuracy: 0.9971 val_accuracy: 0.9903\n",
      "Epoch 4 accuracy: 0.9973 val_accuracy: 0.9889\n",
      "Epoch 5 accuracy: 0.9973 val_accuracy: 0.9925\n",
      "Epoch 6 accuracy: 0.9978 val_accuracy: 0.9898\n",
      "Epoch 7 accuracy: 0.9975 val_accuracy: 0.9900\n",
      "Epoch 8 accuracy: 0.9977 val_accuracy: 0.9905\n",
      "Epoch 9 accuracy: 0.9979 val_accuracy: 0.9890\n",
      "Epoch 10 accuracy: 0.9977 val_accuracy: 0.9912\n",
      "Epoch 11 accuracy: 0.9985 val_accuracy: 0.9898\n",
      "Epoch 12 accuracy: 0.9980 val_accuracy: 0.9908\n",
      "Epoch 13 accuracy: 0.9987 val_accuracy: 0.9891\n",
      "Epoch 14 accuracy: 0.9983 val_accuracy: 0.9897\n",
      "Epoch 15 accuracy: 0.9982 val_accuracy: 0.9905\n",
      "Epoch 16 accuracy: 0.9991 val_accuracy: 0.9917\n",
      "Epoch 17 accuracy: 0.9988 val_accuracy: 0.9916\n",
      "Epoch 18 accuracy: 0.9985 val_accuracy: 0.9905\n",
      "Epoch 19 accuracy: 0.9984 val_accuracy: 0.9901\n",
      "Epoch 20 accuracy: 0.9988 val_accuracy: 0.9926\n"
     ]
    }
   ],
   "source": [
    "# evaluate the model\n",
    "loss_fn = nn.CrossEntropyLoss()\n",
    "optimizer = torch.optim.Adam(model.parameters(), lr=0.001)\n",
    "\n",
    "torch.manual_seed(1)\n",
    "num_epochs = 20\n",
    "hist = train(model, num_epochs, train_dl, valid_dl)"
   ]
  },
  {
   "cell_type": "code",
   "execution_count": 45,
   "id": "b5f05e5a",
   "metadata": {},
   "outputs": [
    {
     "data": {
      "image/png": "[encoded data removed]",
      "text/plain": [
       "<Figure size 864x288 with 2 Axes>"
      ]
     },
     "metadata": {
      "needs_background": "light"
     },
     "output_type": "display_data"
    }
   ],
   "source": [
    "# visualize learning curves\n",
    "x_arr = np.arange(len(hist[0])) + 1\n",
    "\n",
    "fig = plt.figure(figsize=(12, 4))\n",
    "ax = fig.add_subplot(1, 2, 1)\n",
    "ax.plot(x_arr, hist[0], '-o', label='Train loss')\n",
    "ax.plot(x_arr, hist[1], '--<', label='Validation loss')\n",
    "ax.set_xlabel('Epoch', size=15)\n",
    "ax.set_ylabel('Loss', size=15)\n",
    "ax.legend(fontsize=15)\n",
    "ax = fig.add_subplot(1, 2, 2)\n",
    "ax.plot(x_arr, hist[2], '-o', label='Train acc.')\n",
    "ax.plot(x_arr, hist[3], '--<', label='Validation acc.')\n",
    "ax.legend(fontsize=15)\n",
    "ax.set_xlabel('Epoch', size=15)\n",
    "ax.set_ylabel('Accuracy', size=15)\n",
    "\n",
    "plt.show()"
   ]
  },
  {
   "cell_type": "markdown",
   "id": "0ce32d61",
   "metadata": {},
   "source": [
    "We can see that the performance on the validation set improves and becomes much less erratic with respect to epochs when dropout is applied."
   ]
  }
 ],
 "metadata": {
  "kernelspec": {
   "display_name": "mlms2023",
   "language": "python",
   "name": "mlms2023"
  },
  "language_info": {
   "codemirror_mode": {
    "name": "ipython",
    "version": 3
   },
   "file_extension": ".py",
   "mimetype": "text/x-python",
   "name": "python",
   "nbconvert_exporter": "python",
   "pygments_lexer": "ipython3",
   "version": "3.9.7"
  }
 },
 "nbformat": 4,
 "nbformat_minor": 5
}
