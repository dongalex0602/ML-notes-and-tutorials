{
 "cells": [
  {
   "cell_type": "markdown",
   "id": "6c5fe77b",
   "metadata": {},
   "source": [
    "# Geron Book - Ch 4: Training Models"
   ]
  },
  {
   "cell_type": "markdown",
   "id": "6f3639fc",
   "metadata": {},
   "source": [
    "## Chapter Overview\n",
    "\n",
    "Look at two very different ways to train the linear regression model:\n",
    "* Using a \"closed-form\" equation to directly compute the model parameters which minimize the cost function.\n",
    "* Using gradient descent to gradually tweak model parameters to minimize the cost function. \n",
    "\n",
    "Look at how to detect overfitting in polynomial regression using learning curves and how to use regularization techniques to reduce the risk of overfitting the training set.\n",
    "\n",
    "Look at two common models for classification tasks: logistic regression and softmax regression."
   ]
  },
  {
   "cell_type": "markdown",
   "id": "48a9144a",
   "metadata": {},
   "source": [
    "## Linear Regression\n",
    "\n",
    "A linear model makes a prediction by computing a weighted sum of the input features plus a constant called the *bias term*.\n",
    "\n",
    "<br>\n",
    "\n",
    "**Eq 4-1. Linear Regression Model Prediction**\n",
    "\n",
    "$$\\hat y = \\theta_0 + \\theta_1x_1 + \\theta_2x_2 + ... + \\theta_nx_n$$\n",
    "\n",
    "* $\\hat y \\text{ is the predicted value}$\n",
    "\n",
    "* $n \\text{ is the number of features}$\n",
    "\n",
    "* $x_i \\text{ is the } i^{th} \\text{ feature value}$\n",
    "\n",
    "* $\\theta_j \\text{ is the } j^{th} \\text{ model parameter. } \\theta_0 \\text{ is the bias term and the feature weights are } \\theta_1, \\theta_2,...,\\theta_n$\n",
    "\n",
    "<br>\n",
    "\n",
    "**Eq 4-1. Linear Regression Model Prediction (vectorized form)**\n",
    "\n",
    "$$\\hat y = h_\\theta(x) = \\theta \\cdot x$$\n",
    "\n",
    "* $h_\\theta \\text{ is the hypothesis function, using the model parameters } \\theta$\n",
    "\n",
    "* $\\theta \\text{ is the model's *parameter vector*, containing the bias term and the feature weights}$\n",
    "\n",
    "* $x \\text{ is the instance's *feature vector*, containing } x_0 \\text{ to } x_n \\text{, with } x_0 \\text{ always equal to 1}$\n",
    "\n",
    "* $\\theta \\cdot x \\text{ is the dot product of the vectors } \\theta \\text{ and } x \\text{, which is equal to the linear combination in the previous equation}$\n",
    "\n",
    "* $\\theta \\cdot x \\text{ is the dot product of the vectors } \\theta \\text{ and } x \\text{, which is equal to the linear combination in the previous equation}$\n",
    "\n",
    "Recall that training a model means setting its parameters so that the model best fits the training set. To do this, first we need a performance measure. One of the most common performance measures of a regression model is RMSE. To train a linear regression \n",
    "\n",
    "A common way to measure the performance of a linear regression model is with RMSE (or MSE). We can train a linear regression model by finding the value of $\\theta$ which which minimizes RMSE (or MSE). Will use MSE for example bc it is simpler in practice.\n",
    "\n",
    "<br>\n",
    "\n",
    "**Eq. 4-3. MSE Cost Function for a Linear Regression Model**\n",
    "\n",
    "$$\\text{MSE}(\\textbf{X},h_\\theta) = \\frac{1}{m} \\sum_{i=1}^{m}\\left(\\theta^T \\textbf{x}^{(i)} - y^{(i)} \\right)^2$$\n",
    "\n",
    "We can use this equation to calculate the MSE of a linear regression hypothesis $h_\\theta$ on a training set $\\textbf{X}$. The subscript $\\theta$ indicates that the model is parametrized by the vector $\\theta$. To simplify notation, we can write $\\text{MSE}(\\theta)$ instead of $\\text{MSE}(\\textbf{X},h_\\theta)$."
   ]
  },
  {
   "cell_type": "markdown",
   "id": "5d8c2489",
   "metadata": {},
   "source": [
    "### The Normal Equation\n",
    "\n",
    "There exists a closed-form solution to find the value of $\\theta$ that minimizes the MSE. This is called the *Normal Equation*.\n",
    "\n",
    "**Eq. 4-4. Normal Equation**\n",
    "\n",
    "$$\\hat \\theta = (\\textbf{X}^T \\textbf{X})^{-1} \\textbf{X}^T  \\textbf{y}$$\n",
    "\n",
    "* $\\hat \\theta$ is the value of $\\theta$ that minimizes the cost function\n",
    "* $y$ is the vector of target values containing $y_1$ to $y_m$"
   ]
  },
  {
   "cell_type": "code",
   "execution_count": 18,
   "id": "3897bf67",
   "metadata": {},
   "outputs": [
    {
     "data": {
      "image/png": "[encoded data removed]",
      "text/plain": [
       "<Figure size 432x288 with 1 Axes>"
      ]
     },
     "metadata": {
      "needs_background": "light"
     },
     "output_type": "display_data"
    }
   ],
   "source": [
    "# generate some linear-ish data to test the Normal Equation\n",
    "\n",
    "import numpy as np\n",
    "import matplotlib.pyplot as plt\n",
    "\n",
    "np.random.seed(42)  # to make this code example reproducible\n",
    "m = 100  # number of instances\n",
    "X = 2 * np.random.rand(m, 1)  # column vector\n",
    "y = 4 + 3 * X + np.random.randn(m, 1)  # column vector (y = 4 + 3x_1 + Gaussian noise)\n",
    "\n",
    "# plot the generated data\n",
    "\n",
    "plt.figure(figsize=(6, 4))\n",
    "plt.plot(X, y, \"b.\")\n",
    "plt.xlabel(\"$x_1$\")\n",
    "plt.ylabel(\"$y$\", rotation=0)\n",
    "plt.axis([0, 2, 0, 15])\n",
    "plt.grid()\n",
    "plt.show()"
   ]
  },
  {
   "cell_type": "code",
   "execution_count": 2,
   "id": "24c62edd",
   "metadata": {},
   "outputs": [],
   "source": [
    "# compute $\\hat\\theta$ using the Normal Equation\n",
    "\n",
    "from sklearn.preprocessing import add_dummy_feature\n",
    "\n",
    "X_b = add_dummy_feature(X)  # add x0 = 1 to each instance\n",
    "theta_best = np.linalg.inv(X_b.T @ X_b) @ X_b.T @ y # note: @ performs matrix mult."
   ]
  },
  {
   "cell_type": "code",
   "execution_count": 8,
   "id": "36583891",
   "metadata": {},
   "outputs": [
    {
     "data": {
      "text/plain": [
       "array([[4.21509616, 2.77011339]])"
      ]
     },
     "execution_count": 8,
     "metadata": {},
     "output_type": "execute_result"
    }
   ],
   "source": [
    "theta_best.reshape(1,2)"
   ]
  },
  {
   "cell_type": "markdown",
   "id": "02e43f72",
   "metadata": {},
   "source": [
    "We expect $\\theta_0 = 4$ and $\\theta_1 = 3$. We get values that are similar but slightly off (due to noise). Note that the smaller and noisier the dataset, the more the values will deviate."
   ]
  },
  {
   "cell_type": "markdown",
   "id": "e8a614d0",
   "metadata": {},
   "source": [
    "Now we can make predictions using $\\hat\\theta$:"
   ]
  },
  {
   "cell_type": "code",
   "execution_count": 7,
   "id": "80687f5f",
   "metadata": {},
   "outputs": [
    {
     "data": {
      "text/plain": [
       "array([[4.21509616, 9.75532293]])"
      ]
     },
     "execution_count": 7,
     "metadata": {},
     "output_type": "execute_result"
    }
   ],
   "source": [
    "X_new = np.array([[0], [2]])\n",
    "X_new_b = add_dummy_feature(X_new)  # add x0 = 1 to each instance\n",
    "y_predict = X_new_b @ theta_best\n",
    "y_predict.reshape(1,2)"
   ]
  },
  {
   "cell_type": "code",
   "execution_count": 16,
   "id": "790d1811",
   "metadata": {},
   "outputs": [
    {
     "data": {
      "image/png": "[encoded data removed]",
      "text/plain": [
       "<Figure size 432x288 with 1 Axes>"
      ]
     },
     "metadata": {
      "needs_background": "light"
     },
     "output_type": "display_data"
    }
   ],
   "source": [
    "# plot the predictions\n",
    "\n",
    "plt.plot(X_new, y_predict, \"r-\", label=\"Predictions\")\n",
    "plt.plot(X, y, \"b.\")\n",
    "\n",
    "plt.xlabel(\"$x_1$\")\n",
    "plt.ylabel(\"$y$\", rotation=0)\n",
    "plt.axis([0, 2, 0, 15])\n",
    "plt.grid()\n",
    "plt.legend(loc=\"upper left\")\n",
    "\n",
    "plt.show()"
   ]
  },
  {
   "cell_type": "code",
   "execution_count": 19,
   "id": "7c6cfcfb",
   "metadata": {},
   "outputs": [
    {
     "data": {
      "text/plain": [
       "(array([4.21509616]), array([[2.77011339]]))"
      ]
     },
     "execution_count": 19,
     "metadata": {},
     "output_type": "execute_result"
    }
   ],
   "source": [
    "# perform linear regression using SKL\n",
    "from sklearn.linear_model import LinearRegression\n",
    "lin_reg = LinearRegression()\n",
    "lin_reg.fit(X, y)\n",
    "lin_reg.intercept_, lin_reg.coef_"
   ]
  },
  {
   "cell_type": "code",
   "execution_count": 24,
   "id": "f308d3ff",
   "metadata": {},
   "outputs": [
    {
     "data": {
      "text/plain": [
       "array([[4.21509616, 9.75532293]])"
      ]
     },
     "execution_count": 24,
     "metadata": {},
     "output_type": "execute_result"
    }
   ],
   "source": [
    "lin_reg.predict(X_new).reshape(1,2)"
   ]
  },
  {
   "cell_type": "markdown",
   "id": "62eb317c",
   "metadata": {},
   "source": [
    "SKL's ```LinearRegression``` class is based on ```scipy.linalg.lstsq()``` which can be directly called. This approach is more efficient than computing the normal equation and even works if $\\text{X}^\\text{T}\\text{X}$ is not invertible. How it works is probably not too relevant for these notes though. Read the book for more information (Ch 4)."
   ]
  },
  {
   "cell_type": "markdown",
   "id": "0b3776e4",
   "metadata": {},
   "source": [
    "### Computational Complexity\n",
    "\n",
    "The computational complexity (time complexity) of inverting a matrix is typically about $O(n^{2.4})$ or $O(n^3)$ depending on the implementation. In other words time scales exponentially with the number of features. The time complexity of the SVD approach used by SKL's ```LinearRegression``` class is about $O(n^2)$, which is also quite bad.\n",
    "\n",
    "Once the linear regression model is trained, however, the time complexity of making a prediction is $O(n)$ with regards to both the number of instances you want to make predctions on and the number of features."
   ]
  },
  {
   "cell_type": "markdown",
   "id": "34cdcab3",
   "metadata": {},
   "source": [
    "## Gradient Descent\n",
    "\n",
    "Gradient descent is a generic optimization algorithm that is more suited for cases with a large number of features or too many instances to fit in memory. The general idea of gradient descent is to tweak parameters iteratively in order to minimize a cost function.\n",
    "\n",
    "Gradient descent measures the local gradient of the error function with regard to parameter vector $\\theta$ and goes in the direction of descending gradient, stopping once the gradient is zero.\n",
    "\n",
    "In practice, start by filling $\\theta$ with random values (aka random initialization), and then take small steps in the direction of decreasing cost until the algorithm converges to a minimum.\n",
    "\n",
    "An important parameter in gradient descent is the size of the steps, determined by the *learning rate* hyperparameter. Too small and the algorithm might take too long or get stuck in a local minima (if one exists), too large and the algorithm might diverge to larger and larger values.\n",
    "\n",
    "For a linear regression model, the MSE cost function is convex, implying no local minima and continuity. For this type of model, gradient descent is guaranteed to approach the global minimum (if you wait long enough and the learning rate is not too high).\n",
    "\n",
    "If features have different scales, gradient descent will take longer to reach the minimum for the feature with the larger scale. You should ensure that all features have a similar scale, otherwise it may take a long time to converge.\n",
    "\n",
    "Training a model often means searching for a combination of model parameters that minimizes a cost function. the more parameters a model has, harder the search will be (i.e., it will take longer). "
   ]
  },
  {
   "cell_type": "markdown",
   "id": "f310fc08",
   "metadata": {},
   "source": [
    "### Batch Gradient Descent\n",
    "\n",
    "**Eq. 4-5. Parital Derivatives of the Cost function**\n",
    "\n",
    "$$\n",
    "\\frac{\\partial}{\\partial\\theta_j}\\text{MSE}(\\theta)=\\frac{2}{m} \\sum_{i=1}^m \\left( \\theta^T \\textbf{x}^{(i)} - y^{(i)} \\right) x_j^{(i)}\n",
    "$$\n",
    "\n",
    "We can compute all of the partial derivatives in one go. The gradient vector $\\nabla_\\theta \\text{MSE}(\\theta)$ contains all the partial derivatives of the cost function (one for each model parameter). See below:\n",
    "\n",
    "**Eq. 4-6. Gradient Vector of the Cost Function**\n",
    "\n",
    "$$\n",
    "\\nabla_\\theta \\text{MSE}(\\theta) = \n",
    "\\begin{pmatrix} \\frac{\\partial}{\\partial\\theta_0}\\text{MSE}(\\theta) \\\\\n",
    "\\frac{\\partial}{\\partial\\theta_1}\\text{MSE}(\\theta) \\\\ \\vdots \\\\\n",
    "\\frac{\\partial}{\\partial\\theta_n}\\text{MSE}(\\theta) \\end{pmatrix} = \n",
    "\\frac{2}{m} \\textbf{X}^{\\text{T}} (\\textbf{X} \\theta - \\textbf{y})\n",
    "$$\n",
    "\n",
    "Once the gradient vector is found, go in the opposite direction to go downhill, i.e., subtract $\\nabla_\\theta \\text{MSE}(\\theta)$ from $\\theta$. Multiply the gradient vector by the learning rate $\\eta$ to determine the size of the downhill step. See below:\n",
    "\n",
    "**Eq. 4-7. Gradient Descent Step**\n",
    "\n",
    "$$\n",
    "\\theta_{next step} = \\theta - \\eta\\nabla_\\theta\\text{MSE}(\\theta)\n",
    "$$"
   ]
  },
  {
   "cell_type": "code",
   "execution_count": 25,
   "id": "cc1f2b0f",
   "metadata": {},
   "outputs": [],
   "source": [
    "# example implementation of the gradient descent algorithm\n",
    "\n",
    "eta = 0.1  # learning rate\n",
    "n_epochs = 1000\n",
    "m = len(X_b)  # number of instances\n",
    "\n",
    "np.random.seed(42)\n",
    "theta = np.random.randn(2, 1)  # randomly initialized model parameters\n",
    "\n",
    "for epoch in range(n_epochs):\n",
    "    gradients = 2 / m * X_b.T @ (X_b @ theta - y)\n",
    "    theta = theta - eta * gradients\n",
    "    \n",
    "# note: each iteration over the training set is called an **epoch**"
   ]
  },
  {
   "cell_type": "code",
   "execution_count": 26,
   "id": "2fbac071",
   "metadata": {},
   "outputs": [
    {
     "data": {
      "text/plain": [
       "array([[4.21509616, 2.77011339]])"
      ]
     },
     "execution_count": 26,
     "metadata": {},
     "output_type": "execute_result"
    }
   ],
   "source": [
    "theta.reshape(1,2)"
   ]
  },
  {
   "cell_type": "markdown",
   "id": "ee9e9330",
   "metadata": {},
   "source": [
    "This is the same result that was obtained using the Normal Equation! Gradient descent worked perfectly. But what if we used a different learning rate (```eta```)? The graph produced by the following code shows the first 20 steps of gradient descent using three different learning rates. The line at the bottom of each plot represents the random starting point and each epoch is represented by a darker and darker line."
   ]
  },
  {
   "cell_type": "code",
   "execution_count": 29,
   "id": "9cb5f0bc",
   "metadata": {},
   "outputs": [
    {
     "data": {
      "image/png": "[encoded data removed]",
      "text/plain": [
       "<Figure size 720x288 with 3 Axes>"
      ]
     },
     "metadata": {
      "needs_background": "light"
     },
     "output_type": "display_data"
    }
   ],
   "source": [
    "import matplotlib as mpl\n",
    "\n",
    "def plot_gradient_descent(theta, eta):\n",
    "    m = len(X_b)\n",
    "    plt.plot(X, y, \"b.\")\n",
    "    n_epochs = 1000\n",
    "    n_shown = 20\n",
    "    theta_path = []\n",
    "    for epoch in range(n_epochs):\n",
    "        if epoch < n_shown:\n",
    "            y_predict = X_new_b @ theta\n",
    "            color = mpl.colors.rgb2hex(plt.cm.OrRd(epoch / n_shown + 0.15))\n",
    "            plt.plot(X_new, y_predict, linestyle=\"solid\", color=color)\n",
    "        gradients = 2 / m * X_b.T @ (X_b @ theta - y)\n",
    "        theta = theta - eta * gradients\n",
    "        theta_path.append(theta)\n",
    "    plt.xlabel(\"$x_1$\")\n",
    "    plt.axis([0, 2, 0, 15])\n",
    "    plt.grid()\n",
    "    plt.title(fr\"$\\eta = {eta}$\")\n",
    "    return theta_path\n",
    "\n",
    "np.random.seed(42)\n",
    "theta = np.random.randn(2, 1)  # random initialization\n",
    "\n",
    "plt.figure(figsize=(10, 4))\n",
    "plt.subplot(131)\n",
    "plot_gradient_descent(theta, eta=0.02)\n",
    "plt.ylabel(\"$y$\", rotation=0)\n",
    "plt.subplot(132)\n",
    "theta_path_bgd = plot_gradient_descent(theta, eta=0.1)\n",
    "plt.gca().axes.yaxis.set_ticklabels([])\n",
    "plt.subplot(133)\n",
    "plt.gca().axes.yaxis.set_ticklabels([])\n",
    "plot_gradient_descent(theta, eta=0.5)\n",
    "plt.show()"
   ]
  },
  {
   "cell_type": "markdown",
   "id": "a08dbf6d",
   "metadata": {},
   "source": [
    "On the left, the learning rate is too low, and run time will be high. In the middle, the learning rate looks good. On the right, the learning rate is too high and the algorithm diverges.\n",
    "\n",
    "You can use grid search to find a good learning rate. When doing so, it can be a good idea to limit the number of epochs so that grid search can eliminate models that take too long to converge."
   ]
  },
  {
   "cell_type": "markdown",
   "id": "3ecea288",
   "metadata": {},
   "source": [
    "### Stochastic Gradient Descent\n",
    "\n",
    "Batch gradient descent can be very slow when the training set is large because it uses the whole training set to compute the gradients at every step. At the opposite extreme, *stochastic gradient descent* picks a random instance in the training set a every step and only computes the gradients based on that single instance. Stochastic Gradient Descent is much faster and makes it possible to train on huge training sets without excessive memory.\n",
    "\n",
    "Since stochastic gradient descent is stochastic, when it converges near the minimum, the cost function will continue to bounce around but never point towrads a specific value. Once the algorithm stops, the final parameter values will be good, but not optimal.\n",
    "\n",
    "Stochastic gradient descent has a better chance of finding the global minimum than batch gradient descent since when the cost function is very irregular, the algorithm can sometimes jump out of local minima. \n",
    "\n",
    "We can help the algorithm get closer to the minimum by gradually reducing the learning rate. The function that determines the learning rate at each iteration is called the *learning schedule*."
   ]
  },
  {
   "cell_type": "code",
   "execution_count": 33,
   "id": "f4636506",
   "metadata": {},
   "outputs": [
    {
     "data": {
      "text/plain": [
       "array([[4.21076011, 2.74856079]])"
      ]
     },
     "execution_count": 33,
     "metadata": {},
     "output_type": "execute_result"
    }
   ],
   "source": [
    "# code to implement SGD using a simple learning schedule\n",
    "\n",
    "n_epochs = 50\n",
    "t0, t1 = 5, 50  # learning schedule hyperparameters\n",
    "\n",
    "def learning_schedule(t):\n",
    "    return t0 / (t + t1)\n",
    "\n",
    "np.random.seed(42)\n",
    "theta = np.random.randn(2, 1)  # random initialization\n",
    "\n",
    "for epoch in range(n_epochs):\n",
    "    for iteration in range(m):\n",
    "        random_index = np.random.randint(m)\n",
    "        xi = X_b[random_index : random_index + 1]\n",
    "        yi = y[random_index : random_index + 1]\n",
    "        gradients = 2 * xi.T @ (xi @ theta - yi)  # for SGD, do not divide by m\n",
    "        eta = learning_schedule(epoch * m + iteration)\n",
    "        theta = theta - eta * gradients\n",
    "        \n",
    "# notice: the batch GD code iterated 1k times, \n",
    "# while SGD only iterated 50 times\n",
    "# and they reach similar solutions\n",
    "theta.reshape(1,2)"
   ]
  },
  {
   "cell_type": "code",
   "execution_count": 34,
   "id": "dba52a67",
   "metadata": {},
   "outputs": [
    {
     "data": {
      "text/plain": [
       "(array([4.21278812]), array([2.77270267]))"
      ]
     },
     "execution_count": 34,
     "metadata": {},
     "output_type": "execute_result"
    }
   ],
   "source": [
    "# SGD with SKLearn\n",
    "\n",
    "from sklearn.linear_model import SGDRegressor\n",
    "\n",
    "# SGDRegressor minimizes the MSE cost function by default jsyk\n",
    "sgd_reg = SGDRegressor(max_iter=1000, tol=1e-5, penalty=None, eta0=0.01,\n",
    "                       n_iter_no_change=100, random_state=42)\n",
    "sgd_reg.fit(X, y.ravel())  # y.ravel() because fit() expects 1D targets\n",
    "\n",
    "# the solution is also similar to the one found by the Normal Equation\n",
    "sgd_reg.intercept_, sgd_reg.coef_"
   ]
  },
  {
   "cell_type": "markdown",
   "id": "6597c6d1",
   "metadata": {},
   "source": [
    "### Mini-Batch Gradient Descent\n",
    "\n",
    "At each step, mini-batch GD computes the gradients on small random sets of instances called *mini-batches*. The main advantage over SGD is that you can get a performance boost from hardware optimization of matrix operations. Also, mini-batch GD generally ends up slightly closer to the minimum than SGD, but it might also have more difficult escaping local minima.\n",
    "\n",
    "Figure 4-11 in the book illustrates the differences between the three gradient descents with a graph. It is quite nice. Table 4-1 compares the algorithms discussed so far for linear regression with numbers. It's also very nice.\n",
    "\n",
    "**note**: after training, all algorithms end up with very similar models and make predictions in the exact same way. "
   ]
  },
  {
   "cell_type": "markdown",
   "id": "ad779cf3",
   "metadata": {},
   "source": [
    "## Polynomial Regression\n",
    "\n",
    "You can use a linear model to fit nonlinear data. This can be done by adding powers of each feature as new features, and then taining a linear model on the extended set of features. This is called *polynomial regression*"
   ]
  },
  {
   "cell_type": "code",
   "execution_count": 36,
   "id": "2166ce15",
   "metadata": {},
   "outputs": [
    {
     "data": {
      "image/png": "[encoded data removed]",
      "text/plain": [
       "<Figure size 432x288 with 1 Axes>"
      ]
     },
     "metadata": {
      "needs_background": "light"
     },
     "output_type": "display_data"
    }
   ],
   "source": [
    "# generate some quadratic shape data with noise\n",
    "\n",
    "np.random.seed(42)\n",
    "m = 100\n",
    "X = 6 * np.random.rand(m, 1) - 3\n",
    "y = 0.5 * X ** 2 + X + 2 + np.random.randn(m, 1)\n",
    "\n",
    "# plot it just to show\n",
    "plt.figure(figsize=(6, 4))\n",
    "plt.plot(X, y, \"b.\")\n",
    "plt.xlabel(\"$x_1$\")\n",
    "plt.ylabel(\"$y$\", rotation=0)\n",
    "plt.axis([-3, 3, 0, 10])\n",
    "plt.grid()\n",
    "plt.show()"
   ]
  },
  {
   "cell_type": "code",
   "execution_count": 38,
   "id": "cb07968c",
   "metadata": {},
   "outputs": [
    {
     "data": {
      "text/plain": [
       "(array([-0.75275929]), array([-0.75275929,  0.56664654]))"
      ]
     },
     "execution_count": 38,
     "metadata": {},
     "output_type": "execute_result"
    }
   ],
   "source": [
    "# transform data using SKL's PolynomialFeatures class\n",
    "\n",
    "from sklearn.preprocessing import PolynomialFeatures\n",
    "poly_features = PolynomialFeatures(degree=2, include_bias=False)\n",
    "X_poly = poly_features.fit_transform(X)\n",
    "\n",
    "X[0], X_poly[0]\n",
    "# X_poly contains the original features of X and its square"
   ]
  },
  {
   "cell_type": "code",
   "execution_count": 39,
   "id": "ceaa33aa",
   "metadata": {},
   "outputs": [
    {
     "data": {
      "text/plain": [
       "(array([1.78134581]), array([[0.93366893, 0.56456263]]))"
      ]
     },
     "execution_count": 39,
     "metadata": {},
     "output_type": "execute_result"
    }
   ],
   "source": [
    "# fit a linear regression model to the extended training data\n",
    "\n",
    "lin_reg = LinearRegression()\n",
    "lin_reg.fit(X_poly, y)\n",
    "lin_reg.intercept_, lin_reg.coef_"
   ]
  },
  {
   "cell_type": "markdown",
   "id": "8b7875d2",
   "metadata": {},
   "source": [
    "These are good predictions. The model estimates $\\hat y = 0.56x_1^2 + 0.93x_1 + 1.78$ when the original function was $y = 0.5x_1^2 + 1.0x_1 + 2.0 + \\text{Gaussian noise}$."
   ]
  },
  {
   "cell_type": "code",
   "execution_count": 40,
   "id": "3c401d03",
   "metadata": {},
   "outputs": [
    {
     "data": {
      "image/png": "[encoded data removed]",
      "text/plain": [
       "<Figure size 432x288 with 1 Axes>"
      ]
     },
     "metadata": {
      "needs_background": "light"
     },
     "output_type": "display_data"
    }
   ],
   "source": [
    "# plot best fit line for fun\n",
    "X_new = np.linspace(-3, 3, 100).reshape(100, 1)\n",
    "X_new_poly = poly_features.transform(X_new)\n",
    "y_new = lin_reg.predict(X_new_poly)\n",
    "\n",
    "plt.figure(figsize=(6, 4))\n",
    "plt.plot(X, y, \"b.\")\n",
    "plt.plot(X_new, y_new, \"r-\", linewidth=2, label=\"Predictions\")\n",
    "plt.xlabel(\"$x_1$\")\n",
    "plt.ylabel(\"$y$\", rotation=0)\n",
    "plt.legend(loc=\"upper left\")\n",
    "plt.axis([-3, 3, 0, 10])\n",
    "plt.grid()\n",
    "plt.show()"
   ]
  },
  {
   "cell_type": "markdown",
   "id": "48d52db6",
   "metadata": {},
   "source": [
    "When there are multiple features, polynomial regression is capable of finding relationships between features, which is something a plain linear regression model can't do."
   ]
  },
  {
   "cell_type": "markdown",
   "id": "ac42ec8d",
   "metadata": {},
   "source": [
    "## Learning Curves\n",
    "\n",
    "High-degree polynomial regression will likely fit the trianing dat much better than plain linear regression. An excessively high-degree polynomial regression model serverely overfits the model while a linear model underfits. When you don't know the function that generates the data, it can be difficult to decide how complex a model should be.\n",
    "\n",
    "One way to check under/over-fitting is cross validation. Another way is to look at *learning curves*. These are plots of the model’s training error and validation error as a function of the training iteration. To make these, evaluate the model at regular intervals during training on both the training set and the validation set, and plot the results. If the model cannot be trained incrementally, then it must be trained several times on gradually larger subsets of the training set."
   ]
  },
  {
   "cell_type": "code",
   "execution_count": 42,
   "id": "4417fe91",
   "metadata": {},
   "outputs": [
    {
     "data": {
      "image/png": "[encoded data removed]",
      "text/plain": [
       "<Figure size 432x288 with 1 Axes>"
      ]
     },
     "metadata": {
      "needs_background": "light"
     },
     "output_type": "display_data"
    }
   ],
   "source": [
    "# plot learning curves of a linear model with SKL on the quadratic data\n",
    "\n",
    "from sklearn.model_selection import learning_curve\n",
    "\n",
    "train_sizes, train_scores, valid_scores = learning_curve(\n",
    "    LinearRegression(), X, y, train_sizes=np.linspace(0.01, 1.0, 40), cv=5,\n",
    "    scoring=\"neg_root_mean_squared_error\")\n",
    "    # if the model supports incremental training, set exploit_incremental_learning=True\n",
    "train_errors = -train_scores.mean(axis=1)\n",
    "valid_errors = -valid_scores.mean(axis=1)\n",
    "\n",
    "plt.plot(train_sizes, train_errors, \"r-+\", linewidth=2, label=\"train\")\n",
    "plt.plot(train_sizes, valid_errors, \"b-\", linewidth=3, label=\"valid\")\n",
    "plt.xlabel(\"Training set size\")\n",
    "plt.ylabel(\"RMSE\")\n",
    "plt.grid()\n",
    "plt.legend(loc=\"upper right\")\n",
    "plt.axis([0, 80, 0, 2.5])\n",
    "plt.show()"
   ]
  },
  {
   "cell_type": "markdown",
   "id": "ef28e711",
   "metadata": {},
   "source": [
    "The model is underfitting. When there are just one or two instances in the training set, the model can fit them perfectly, which is why the curve starts at zero. But as new instances are added to the training set, it becomes impossible for the model to fit the training data perfectly, because the data is noisy and because it is not linear. The error on the training data goes up until it reaches a plateau, at which point adding new instances to the training set doesn’t make the average error much better or worse.\n",
    "\n",
    "When the model is trained on very few training instances, it is incapable of generalizing properly, which is why the validation error is initially quite large. As the model is shown more training examples, it learns, and the validation error slowly goes down. However, once again a straight line cannot do a good job of modeling the data, so the error ends up at a plateau, very close to the other curve.\n",
    "\n",
    "These learning curves are typical of a model that’s underfitting. Both curves have reached a plateau; they are close and fairly high."
   ]
  },
  {
   "cell_type": "code",
   "execution_count": 43,
   "id": "1e731605",
   "metadata": {},
   "outputs": [
    {
     "data": {
      "image/png": "[encoded data removed]",
      "text/plain": [
       "<Figure size 432x288 with 1 Axes>"
      ]
     },
     "metadata": {
      "needs_background": "light"
     },
     "output_type": "display_data"
    }
   ],
   "source": [
    "# learning curves of the 10th degree poly model on the same data\n",
    "\n",
    "from sklearn.pipeline import make_pipeline\n",
    "\n",
    "polynomial_regression = make_pipeline(\n",
    "    PolynomialFeatures(degree=10, include_bias=False),\n",
    "    LinearRegression())\n",
    "\n",
    "train_sizes, train_scores, valid_scores = learning_curve(\n",
    "    polynomial_regression, X, y, train_sizes=np.linspace(0.01, 1.0, 40), cv=5,\n",
    "    scoring=\"neg_root_mean_squared_error\")\n",
    "\n",
    "train_errors = -train_scores.mean(axis=1)\n",
    "valid_errors = -valid_scores.mean(axis=1)\n",
    "\n",
    "plt.figure(figsize=(6, 4))\n",
    "plt.plot(train_sizes, train_errors, \"r-+\", linewidth=2, label=\"train\")\n",
    "plt.plot(train_sizes, valid_errors, \"b-\", linewidth=3, label=\"valid\")\n",
    "plt.legend(loc=\"upper right\")\n",
    "plt.xlabel(\"Training set size\")\n",
    "plt.ylabel(\"RMSE\")\n",
    "plt.grid()\n",
    "plt.axis([0, 80, 0, 2.5])\n",
    "plt.show()"
   ]
  },
  {
   "cell_type": "markdown",
   "id": "80a55204",
   "metadata": {},
   "source": [
    "These new curves look similar to the previous ones, but there are two important differences:\n",
    "* The error on the training data is much lower than before.\n",
    "* There is a gap between the curves, meaning the model performs significantly better on the training data than on the validation data. This signifies overfitting, but the two curves should converge if the training set is larger.\n",
    "\n",
    "A model's generalization error can be expressed as the sum of three different errors:\n",
    "\n",
    "* *Bias*: \n",
    ">Error due to incorrect assumptions (e.g., assuming that the data is linear when it is quadratic). A high-bias model is most likely to underfit the training data.\n",
    "    \n",
    "* *Variance*\n",
    ">Error due to a model's excessive sensitivity to small variations in the training data (e.g., a high-degree polynomial model). A high variance model is likely to overfit the training data.\n",
    "\n",
    "* *Irreducible Error*\n",
    ">Error due to noise in the data. The only way to reduce this part of the error is to clean up the data (e.g., fix the data sources, detect/remove outliers).\n",
    "\n",
    "Increasing a model’s complexity will typically increase its variance and reduce its bias. Conversely, reducing a model’s complexity increases its bias and reduces its variance. This is called the bias-variance trade-off."
   ]
  },
  {
   "cell_type": "markdown",
   "id": "b9dd6931",
   "metadata": {},
   "source": [
    "## Regularized Linear Models\n",
    "\n",
    "A good way to reduce overfitting is to regularize (constrain) the model. The fewer degrees of freedom that the model has, the harder it will be to overfit the data. One way to regulatize a polynomial model is to reduce the number of polynomial degrees.\n",
    "\n",
    "For a linear model, regularization is typically achieved by constraining the weights of the model. Three common ways to constrain the weights are ridge regression, lasso regression, and elastic net regression."
   ]
  },
  {
   "cell_type": "markdown",
   "id": "66ecc358",
   "metadata": {},
   "source": [
    "### Ridge Regression\n",
    "\n",
    "*Ridge Regression* is a regularized version of linear regression. A *regularization term*, $\\frac{\\alpha}{m}\\sum_{i=1}^n \\theta_1^2$, is added to the MSE. The learning algorithm will fit the data while trying to keep the model weights as small as possible. **Note**: the regularization term should only be added to the cost function during training. Once the model is trained, you want to use the unregularized MSE (or the RMSE) to evaluate the model’s performance.\n",
    "\n",
    "The hyperparameter $\\alpha$ controls how much you want to regularize the model. If α = 0, then ridge regression is just linear regression. If α is very large, then all weights end up very close to zero and the result is a flat line going through the data’s mean.\n",
    "\n",
    "**Eq. 4-8. Ridge Regression Cost Function**\n",
    "\n",
    "$$\n",
    "J(\\theta) = \\text{MSE}(\\theta) + \\frac{\\alpha}{m}\\sum_{i=1}^n \\theta_1^2\n",
    "$$\n",
    "\n",
    "Notice that the bias term isn't regularized (the sum starts at $i=1$ not $i=0$).\n",
    "\n",
    "<br>\n",
    "\n",
    "Just like linear regression, we can perform ridge regression either by computing a closed-form equation or by performing gradient descent. The pros and cons are the same.\n",
    "\n",
    "**Eq. 4-9. Ridge Regression Closed-Form Solution**\n",
    "\n",
    "$$\n",
    "\\hat \\theta = (\\text{X}^\\text{T}\\text{X} + \\alpha\\text{A})^{-1} \\text{X}^\\text{T}\\text{y}\n",
    "$$\n",
    "\n",
    "$\\text{A}$ is the $(n + 1) \\cdot  (n + 1)$ identity matrix,⁠ except with a $0$ in the top-left cell, corresponding to the bias term."
   ]
  },
  {
   "cell_type": "code",
   "execution_count": 44,
   "id": "ff1df8e1",
   "metadata": {},
   "outputs": [
    {
     "data": {
      "text/plain": [
       "array([[4.82899748]])"
      ]
     },
     "execution_count": 44,
     "metadata": {},
     "output_type": "execute_result"
    }
   ],
   "source": [
    "# ridge regression with SKL using a closed-form solution\n",
    "\n",
    "from sklearn.linear_model import Ridge\n",
    "ridge_reg = Ridge(alpha=0.1, solver=\"cholesky\")\n",
    "ridge_reg.fit(X, y)\n",
    "ridge_reg.predict([[1.5]])"
   ]
  },
  {
   "cell_type": "code",
   "execution_count": 45,
   "id": "1c82f9e0",
   "metadata": {},
   "outputs": [
    {
     "data": {
      "text/plain": [
       "array([4.82830117])"
      ]
     },
     "execution_count": 45,
     "metadata": {},
     "output_type": "execute_result"
    }
   ],
   "source": [
    "# ridge regression using stochastic gradient descent\n",
    "\n",
    "sgd_reg = SGDRegressor(penalty=\"l2\", alpha=0.1 / m, tol=None,\n",
    "                       max_iter=1000, eta0=0.01, random_state=42) \n",
    "# the penalty hyperparameter sets the type of regularization term to use\n",
    "\n",
    "sgd_reg.fit(X, y.ravel())  # y.ravel() because fit() expects 1D targets\n",
    "sgd_reg.predict([[1.5]])"
   ]
  },
  {
   "cell_type": "markdown",
   "id": "702b1fc5",
   "metadata": {},
   "source": [
    "### Lasso Regression\n",
    "\n",
    "*Least absolute shrinkage and selection operator (LASSO) regression* is another regularized version of linear regression. It adds a regularization term to the cost fuction, but uses the $\\ell_1$. Notice that the $\\ell_1$ norm is multiplied by $2\\alpha$, whereas the $\\ell_2$ norm was multiplied by $\\frac{\\alpha}{m}$ in ridge regression. These factors were chosen to ensure that the optimal $\\alpha$ value is independent from the training set size: different norms lead to different factors\n",
    "\n",
    "**Eq. 4-10. Lasso Regression Cost Function**\n",
    "\n",
    "$$\n",
    "J(\\theta) = \\text{MSE}(\\theta) + 2\\alpha \\sum_{i=1}^n |\\theta_1|\n",
    "$$\n",
    "\n",
    "<br>\n",
    "\n",
    "Lasso regression tends to eliminate the weights of the least important features (i.e., set them to zero). In other words, lasso regression automatically performs feature selection and outputs a sparse model with few nonzero feature weights.\n",
    "\n",
    "The lasso cost function is not differentiable at $\\theta_i = 0, \\text{for } i=\\mathbb{N}$, but gradient descent still works if you use a *subgradient vector* $g$ instead when any $\\theta_i = 0$.\n",
    "\n",
    "**Eq. 4-11. Lasso Regression Subgradient Vector**\n",
    "\n",
    "$$\n",
    "J(\\theta) = \\text{MSE}(\\theta) + 2\\alpha \n",
    "\\begin{pmatrix}\n",
    "\\text{sign}(\\theta_1) \\\\\n",
    "\\text{sign}(\\theta_2) \\\\\n",
    "\\vdots \\\\\n",
    "\\text{sign}(\\theta_n) \\\\\n",
    "\\end{pmatrix}\n",
    "\\text{, where sign}(\\theta_1) = \n",
    "\\begin{cases} \n",
    "-1 & \\text{if } \\theta_i < 0 \\\\\n",
    "0 & \\text{if } \\theta_i = 0 \\\\\n",
    "+1 & \\text{if } \\theta_i > 0\n",
    "\\end{cases}\n",
    "$$"
   ]
  },
  {
   "cell_type": "code",
   "execution_count": 46,
   "id": "edb578c3",
   "metadata": {},
   "outputs": [
    {
     "data": {
      "text/plain": [
       "array([4.77621741])"
      ]
     },
     "execution_count": 46,
     "metadata": {},
     "output_type": "execute_result"
    }
   ],
   "source": [
    "# SKL example using the Lasso class\n",
    "\n",
    "from sklearn.linear_model import Lasso\n",
    "\n",
    "lasso_reg = Lasso(alpha=0.1)\n",
    "lasso_reg.fit(X, y)\n",
    "lasso_reg.predict([[1.5]])\n",
    "\n",
    "# note alternative method: SGDRegressor(penalty=\"l1\", alpha=0.1)"
   ]
  },
  {
   "cell_type": "markdown",
   "id": "92430016",
   "metadata": {},
   "source": [
    "### Elastic Net Regression\n",
    "\n",
    "*Elastic net regression* is a middle ground between ridge regression and lasso regression. The regularization term is a weighted sum of both ridge and lasso’s regularization terms, and you can control the mix ratio r. When r = 0, elastic net is equivalent to ridge regression, and when r = 1, it is equivalent to lasso regression.\n",
    "\n",
    "**Eq. 4-12. Elastic Net Cost Function**\n",
    "\n",
    "$$\n",
    "J(\\theta) = \\text{MSE}(\\theta) + r \\left( 2\\alpha \\sum_{i=1}^n |\\theta_1| \\right) + \\left( 1-r \\right) \\left( \\frac{\\alpha}{m} \\sum_{i=1}^n \\theta_i^2 \\right)\n",
    "$$\n",
    "\n",
    "It is almost always preferable to have at least a little regularization. Ridge regression is a good default, but if you suspect that only a few features are useful, you should try lasso or elastic net regression because they reduce useless feature weights down to zero. In general, elastic net is preferred over lasso because lasso may behave erratically when the number of features is greater than the number of training instances or when several features are strongly correlated."
   ]
  },
  {
   "cell_type": "code",
   "execution_count": 48,
   "id": "00870159",
   "metadata": {},
   "outputs": [
    {
     "data": {
      "text/plain": [
       "array([4.78114505])"
      ]
     },
     "execution_count": 48,
     "metadata": {},
     "output_type": "execute_result"
    }
   ],
   "source": [
    "# example code using SKL's ElasticNet\n",
    "\n",
    "from sklearn.linear_model import ElasticNet\n",
    "\n",
    "elastic_net = ElasticNet(alpha=0.1, l1_ratio=0.5) # l1_ratio corresponds to the mix ratio r\n",
    "elastic_net.fit(X, y)\n",
    "elastic_net.predict([[1.5]])"
   ]
  },
  {
   "cell_type": "markdown",
   "id": "c2fd90c5",
   "metadata": {},
   "source": [
    "### Early Stopping\n",
    "\n",
    "Another way to regularize iterative learning algorithms (e.g., gradient descent) is to stop training as soon as validation error reaches a minimum. This is called *early stopping*.\n",
    "\n",
    "As an algorithm learns, its prediction error on the training set goes down along with its prediction error on the validation set. Sometimes, after a while, the validation error stops decreasing and goes back up. This indicates that the model has started to overfit the training data. With early stopping you just stop training as soon as the validation error reaches the minimum. It is such a simple and efficient regularization technique that Geoffrey Hinton called it a “beautiful free lunch”. **Even though all my STEM professors say that there is no such thing as free lunch.**"
   ]
  },
  {
   "cell_type": "code",
   "execution_count": 51,
   "id": "1a37fb02",
   "metadata": {},
   "outputs": [
    {
     "data": {
      "image/png": "[encoded data removed]",
      "text/plain": [
       "<Figure size 432x288 with 1 Axes>"
      ]
     },
     "metadata": {
      "needs_background": "light"
     },
     "output_type": "display_data"
    }
   ],
   "source": [
    "# basic implementation of early stopping\n",
    "\n",
    "from copy import deepcopy\n",
    "from sklearn.metrics import mean_squared_error\n",
    "from sklearn.preprocessing import StandardScaler\n",
    "\n",
    "# extra code – creates the same quadratic dataset as earlier and splits it\n",
    "np.random.seed(42)\n",
    "m = 100\n",
    "X = 6 * np.random.rand(m, 1) - 3\n",
    "y = 0.5 * X ** 2 + X + 2 + np.random.randn(m, 1)\n",
    "X_train, y_train = X[: m // 2], y[: m // 2, 0]\n",
    "X_valid, y_valid = X[m // 2 :], y[m // 2 :, 0]\n",
    "\n",
    "# add all polynomial features and scale all input features\n",
    "preprocessing = make_pipeline(PolynomialFeatures(degree=90, include_bias=False),\n",
    "                              StandardScaler())\n",
    "X_train_prep = preprocessing.fit_transform(X_train)\n",
    "X_valid_prep = preprocessing.transform(X_valid)\n",
    "\n",
    "# create SGD model with no regularization and a small learning rate\n",
    "sgd_reg = SGDRegressor(penalty=None, eta0=0.002, random_state=42)\n",
    "n_epochs = 500\n",
    "best_valid_rmse = float('inf')\n",
    "train_errors, val_errors = [], []  # extra code – it's for the figure below\n",
    "\n",
    "for epoch in range(n_epochs):\n",
    "    sgd_reg.partial_fit(X_train_prep, y_train) # incremental learning\n",
    "    y_valid_predict = sgd_reg.predict(X_valid_prep)\n",
    "    val_error = mean_squared_error(y_valid, y_valid_predict, squared=False)\n",
    "    # measure RMSE at each epoch\n",
    "    if val_error < best_valid_rmse:\n",
    "        best_valid_rmse = val_error\n",
    "        best_model = deepcopy(sgd_reg) \n",
    "        # copy.deepcopy() copies both hyperparams and learning params\n",
    "        # sklearn.base.clone() only copies a model's hyperparams\n",
    "        \n",
    "    # extra code – we evaluate the train error and save it for the figure\n",
    "    y_train_predict = sgd_reg.predict(X_train_prep)\n",
    "    train_error = mean_squared_error(y_train, y_train_predict, squared=False)\n",
    "    val_errors.append(val_error)\n",
    "    train_errors.append(train_error)\n",
    "    \n",
    "# extra code – this section generates the early stopping plot\n",
    "best_epoch = np.argmin(val_errors)\n",
    "plt.figure(figsize=(6, 4))\n",
    "plt.annotate('Best model',\n",
    "             xy=(best_epoch, best_valid_rmse),\n",
    "             xytext=(best_epoch, best_valid_rmse + 0.5),\n",
    "             ha=\"center\",\n",
    "             arrowprops=dict(facecolor='black', shrink=0.05))\n",
    "plt.plot([0, n_epochs], [best_valid_rmse, best_valid_rmse], \"k:\", linewidth=2)\n",
    "plt.plot(val_errors, \"b-\", linewidth=3, label=\"Validation set\")\n",
    "plt.plot(best_epoch, best_valid_rmse, \"bo\")\n",
    "plt.plot(train_errors, \"r--\", linewidth=2, label=\"Training set\")\n",
    "plt.legend(loc=\"upper right\")\n",
    "plt.xlabel(\"Epoch\")\n",
    "plt.ylabel(\"RMSE\")\n",
    "plt.axis([0, n_epochs, 0, 3.5])\n",
    "plt.grid()\n",
    "plt.show()"
   ]
  },
  {
   "cell_type": "markdown",
   "id": "853a3fc2",
   "metadata": {},
   "source": [
    "## Logistic Regression\n",
    "\n",
    "*Logistic Regression* (also called *logit regression*) is commonly used to estimate the probability that an instance belongs to a particular class. If the estimated probability is greater than a given threshold, then the model predicts that the instance belongs to that class, otherwise it predicts that it does not. Logit regression is a binary classifier.\n",
    "\n",
    "### Estimating Probabilities\n",
    "\n",
    "Logit regression works just like a linear regression model. It computes the weighted sum of the input features (plus a bias term), but instead of outputting the result directly (like lin reg), it outputs the logistic of the result.\n",
    "\n",
    "**Eq. 4-13. Logistic Regression Model Estimated Probability (vectorized form)**\n",
    "\n",
    "$$\n",
    "\\hat p = h_\\theta (\\text{x}) = \\sigma ( \\theta^T \\text{x})\n",
    "$$\n",
    "\n",
    "The logistic (denoted $\\sigma$) is a sigmoid function that ouputs a number between 0 and 1. It is defined as follows:\n",
    "\n",
    "**Eq. 4-14. Logistic Function**\n",
    "\n",
    "$$\n",
    "\\sigma(t) = \\frac{1}{1 + e^{-t}}\n",
    "$$\n",
    "\n",
    "Once the logistic regression model has estimated the probability $\\hat p = h_\\theta(\\text{x})$ that an instance $x$ belongs to the positive class, it can make its prediction $\\hat y$ easily:\n",
    "\n",
    "**Eq. 4-15. Logistic Regression Model Prediction using a 0.5 Threshold Probability**\n",
    "\n",
    "$$\n",
    "\\hat y = \\begin{cases}\n",
    "0 & \\text{if } \\hat p < 0.5 \\\\\n",
    "1 & \\text{if } \\hat p \\geq 0.5\n",
    "\\end{cases}\n",
    "$$\n",
    "\n",
    "A logistic model using the default threshold of 50% probabilty predicts $1$ if $\\theta^T \\text{x}$ is positive and $0$ if it is negative."
   ]
  },
  {
   "cell_type": "markdown",
   "id": "a46d7464",
   "metadata": {},
   "source": [
    "### Traning and Cost function\n",
    "\n",
    "The objective of training a logit regression model is to set the parameter vector $\\theta$ so that the model estimates high probabilities for positive instances $(y=1)$ and low probabilities for negative instances $(y=0)$.\n",
    "\n",
    "**Eq. 4-16. Cost Function of a Single Training Instance**\n",
    "\n",
    "$$\n",
    "c(\\theta) = \\begin{cases}\n",
    "-\\log(\\hat p) & \\text{if } y=1 \\\\\n",
    "-\\log(1-\\hat p) & \\text{if } y=0\n",
    "\\end{cases}\n",
    "$$\n",
    "\n",
    "The cost function over the whole training set is the average cost over all training instances. It can be written as an expression called the *log loss*:\n",
    "\n",
    "$$\n",
    "J(\\theta) = - \\frac{1}{m} \\sum_{i=1}^m \\left[ y^{(i)} \\log \\left( \\hat p^{(i)} \\right) + \\left( 1-y^{(i)} \\right) \\log \\left( 1-\\hat p^{(i)} \\right) \\right]\n",
    "$$\n",
    "\n",
    "note: log loss assumes a Gaussian distribution of data. If this assumption is wrong, then there will be consequences.\n",
    "\n",
    "There is no known closed-form equation to compute the value of $\\theta$, but since the cost function is convex, gradient descent (or any other optimization algorithm) is guaranteed to find the global minimum. The partial derivatives of the cost function with regard to the $j^{th}$ model parameter $\\theta_j$ are given by:\n",
    "\n",
    "**Eq. 4-18. Logistic Cost Function Partial Derivatives**\n",
    "\n",
    "$$\n",
    "\\frac{\\partial}{\\partial\\theta_j} J(\\theta) = \\frac{1}{m} \\sum_{i=1}^m \\left( \\sigma \\left( \\theta^T \\textbf{x}^{(i)} \\right) - y^{(i)} \\right) x_j^{(i)}\n",
    "$$\n",
    "\n",
    "This equation is very similar to Eq. 4-5: for each instance it computes the prediction error and multiplies it by the jth feature value, and then it computes the average over all training instances. Once you have the gradient vector containing all the partial derivatives, you can use it in the batch gradient descent algorithm. For stochastic GD you would take one instance at a time, and for mini-batch GD you would use a mini-batch at a time."
   ]
  },
  {
   "cell_type": "markdown",
   "id": "a7a26c6e",
   "metadata": {},
   "source": [
    "### Decision Boundaries\n",
    "\n",
    "We can use the iris dataset to illustrate logistic regression. This is a famous dataset that contains the sepal and petal length and width of 150 iris flowers of 3 species: *Iris setosa*, *Iris versicolor*, and *Iris virginica*.\n",
    "\n",
    "We will build a classifier to detect the *Iris virginica* type based only on the petal width feature:"
   ]
  },
  {
   "cell_type": "code",
   "execution_count": 59,
   "id": "72acc56f",
   "metadata": {},
   "outputs": [
    {
     "data": {
      "text/plain": [
       "['data',\n",
       " 'target',\n",
       " 'frame',\n",
       " 'target_names',\n",
       " 'DESCR',\n",
       " 'feature_names',\n",
       " 'filename',\n",
       " 'data_module']"
      ]
     },
     "execution_count": 59,
     "metadata": {},
     "output_type": "execute_result"
    }
   ],
   "source": [
    "# load and peek at data\n",
    "\n",
    "from sklearn.datasets import load_iris\n",
    "iris = load_iris(as_frame=True)\n",
    "list(iris)"
   ]
  },
  {
   "cell_type": "code",
   "execution_count": 60,
   "id": "98943238",
   "metadata": {},
   "outputs": [
    {
     "data": {
      "text/html": [
       "<div>\n",
       "<style scoped>\n",
       "    .dataframe tbody tr th:only-of-type {\n",
       "        vertical-align: middle;\n",
       "    }\n",
       "\n",
       "    .dataframe tbody tr th {\n",
       "        vertical-align: top;\n",
       "    }\n",
       "\n",
       "    .dataframe thead th {\n",
       "        text-align: right;\n",
       "    }\n",
       "</style>\n",
       "<table border=\"1\" class=\"dataframe\">\n",
       "  <thead>\n",
       "    <tr style=\"text-align: right;\">\n",
       "      <th></th>\n",
       "      <th>sepal length (cm)</th>\n",
       "      <th>sepal width (cm)</th>\n",
       "      <th>petal length (cm)</th>\n",
       "      <th>petal width (cm)</th>\n",
       "    </tr>\n",
       "  </thead>\n",
       "  <tbody>\n",
       "    <tr>\n",
       "      <th>0</th>\n",
       "      <td>5.1</td>\n",
       "      <td>3.5</td>\n",
       "      <td>1.4</td>\n",
       "      <td>0.2</td>\n",
       "    </tr>\n",
       "    <tr>\n",
       "      <th>1</th>\n",
       "      <td>4.9</td>\n",
       "      <td>3.0</td>\n",
       "      <td>1.4</td>\n",
       "      <td>0.2</td>\n",
       "    </tr>\n",
       "    <tr>\n",
       "      <th>2</th>\n",
       "      <td>4.7</td>\n",
       "      <td>3.2</td>\n",
       "      <td>1.3</td>\n",
       "      <td>0.2</td>\n",
       "    </tr>\n",
       "  </tbody>\n",
       "</table>\n",
       "</div>"
      ],
      "text/plain": [
       "   sepal length (cm)  sepal width (cm)  petal length (cm)  petal width (cm)\n",
       "0                5.1               3.5                1.4               0.2\n",
       "1                4.9               3.0                1.4               0.2\n",
       "2                4.7               3.2                1.3               0.2"
      ]
     },
     "execution_count": 60,
     "metadata": {},
     "output_type": "execute_result"
    }
   ],
   "source": [
    "iris.data.head(3)"
   ]
  },
  {
   "cell_type": "code",
   "execution_count": 61,
   "id": "55f6e3ee",
   "metadata": {},
   "outputs": [
    {
     "data": {
      "text/plain": [
       "0    0\n",
       "1    0\n",
       "2    0\n",
       "Name: target, dtype: int64"
      ]
     },
     "execution_count": 61,
     "metadata": {},
     "output_type": "execute_result"
    }
   ],
   "source": [
    "iris.target.head(3)  # note that the instances are not shuffled"
   ]
  },
  {
   "cell_type": "code",
   "execution_count": 62,
   "id": "aacbaac5",
   "metadata": {},
   "outputs": [
    {
     "data": {
      "text/plain": [
       "array(['setosa', 'versicolor', 'virginica'], dtype='<U10')"
      ]
     },
     "execution_count": 62,
     "metadata": {},
     "output_type": "execute_result"
    }
   ],
   "source": [
    "iris.target_names"
   ]
  },
  {
   "cell_type": "code",
   "execution_count": 63,
   "id": "889551e2",
   "metadata": {},
   "outputs": [
    {
     "data": {
      "text/html": [
       "<style>#sk-container-id-2 {color: black;background-color: white;}#sk-container-id-2 pre{padding: 0;}#sk-container-id-2 div.sk-toggleable {background-color: white;}#sk-container-id-2 label.sk-toggleable__label {cursor: pointer;display: block;width: 100%;margin-bottom: 0;padding: 0.3em;box-sizing: border-box;text-align: center;}#sk-container-id-2 label.sk-toggleable__label-arrow:before {content: \"▸\";float: left;margin-right: 0.25em;color: #696969;}#sk-container-id-2 label.sk-toggleable__label-arrow:hover:before {color: black;}#sk-container-id-2 div.sk-estimator:hover label.sk-toggleable__label-arrow:before {color: black;}#sk-container-id-2 div.sk-toggleable__content {max-height: 0;max-width: 0;overflow: hidden;text-align: left;background-color: #f0f8ff;}#sk-container-id-2 div.sk-toggleable__content pre {margin: 0.2em;color: black;border-radius: 0.25em;background-color: #f0f8ff;}#sk-container-id-2 input.sk-toggleable__control:checked~div.sk-toggleable__content {max-height: 200px;max-width: 100%;overflow: auto;}#sk-container-id-2 input.sk-toggleable__control:checked~label.sk-toggleable__label-arrow:before {content: \"▾\";}#sk-container-id-2 div.sk-estimator input.sk-toggleable__control:checked~label.sk-toggleable__label {background-color: #d4ebff;}#sk-container-id-2 div.sk-label input.sk-toggleable__control:checked~label.sk-toggleable__label {background-color: #d4ebff;}#sk-container-id-2 input.sk-hidden--visually {border: 0;clip: rect(1px 1px 1px 1px);clip: rect(1px, 1px, 1px, 1px);height: 1px;margin: -1px;overflow: hidden;padding: 0;position: absolute;width: 1px;}#sk-container-id-2 div.sk-estimator {font-family: monospace;background-color: #f0f8ff;border: 1px dotted black;border-radius: 0.25em;box-sizing: border-box;margin-bottom: 0.5em;}#sk-container-id-2 div.sk-estimator:hover {background-color: #d4ebff;}#sk-container-id-2 div.sk-parallel-item::after {content: \"\";width: 100%;border-bottom: 1px solid gray;flex-grow: 1;}#sk-container-id-2 div.sk-label:hover label.sk-toggleable__label {background-color: #d4ebff;}#sk-container-id-2 div.sk-serial::before {content: \"\";position: absolute;border-left: 1px solid gray;box-sizing: border-box;top: 0;bottom: 0;left: 50%;z-index: 0;}#sk-container-id-2 div.sk-serial {display: flex;flex-direction: column;align-items: center;background-color: white;padding-right: 0.2em;padding-left: 0.2em;position: relative;}#sk-container-id-2 div.sk-item {position: relative;z-index: 1;}#sk-container-id-2 div.sk-parallel {display: flex;align-items: stretch;justify-content: center;background-color: white;position: relative;}#sk-container-id-2 div.sk-item::before, #sk-container-id-2 div.sk-parallel-item::before {content: \"\";position: absolute;border-left: 1px solid gray;box-sizing: border-box;top: 0;bottom: 0;left: 50%;z-index: -1;}#sk-container-id-2 div.sk-parallel-item {display: flex;flex-direction: column;z-index: 1;position: relative;background-color: white;}#sk-container-id-2 div.sk-parallel-item:first-child::after {align-self: flex-end;width: 50%;}#sk-container-id-2 div.sk-parallel-item:last-child::after {align-self: flex-start;width: 50%;}#sk-container-id-2 div.sk-parallel-item:only-child::after {width: 0;}#sk-container-id-2 div.sk-dashed-wrapped {border: 1px dashed gray;margin: 0 0.4em 0.5em 0.4em;box-sizing: border-box;padding-bottom: 0.4em;background-color: white;}#sk-container-id-2 div.sk-label label {font-family: monospace;font-weight: bold;display: inline-block;line-height: 1.2em;}#sk-container-id-2 div.sk-label-container {text-align: center;}#sk-container-id-2 div.sk-container {/* jupyter's `normalize.less` sets `[hidden] { display: none; }` but bootstrap.min.css set `[hidden] { display: none !important; }` so we also need the `!important` here to be able to override the default hidden behavior on the sphinx rendered scikit-learn.org. See: https://github.com/scikit-learn/scikit-learn/issues/21755 */display: inline-block !important;position: relative;}#sk-container-id-2 div.sk-text-repr-fallback {display: none;}</style><div id=\"sk-container-id-2\" class=\"sk-top-container\"><div class=\"sk-text-repr-fallback\"><pre>LogisticRegression(random_state=42)</pre><b>In a Jupyter environment, please rerun this cell to show the HTML representation or trust the notebook. <br />On GitHub, the HTML representation is unable to render, please try loading this page with nbviewer.org.</b></div><div class=\"sk-container\" hidden><div class=\"sk-item\"><div class=\"sk-estimator sk-toggleable\"><input class=\"sk-toggleable__control sk-hidden--visually\" id=\"sk-estimator-id-2\" type=\"checkbox\" checked><label for=\"sk-estimator-id-2\" class=\"sk-toggleable__label sk-toggleable__label-arrow\">LogisticRegression</label><div class=\"sk-toggleable__content\"><pre>LogisticRegression(random_state=42)</pre></div></div></div></div></div>"
      ],
      "text/plain": [
       "LogisticRegression(random_state=42)"
      ]
     },
     "execution_count": 63,
     "metadata": {},
     "output_type": "execute_result"
    }
   ],
   "source": [
    "# split data and train logit model on traning set\n",
    "\n",
    "from sklearn.linear_model import LogisticRegression\n",
    "from sklearn.model_selection import train_test_split\n",
    "\n",
    "X = iris.data[[\"petal width (cm)\"]].values\n",
    "y = iris.target_names[iris.target] == 'virginica'\n",
    "X_train, X_test, y_train, y_test = train_test_split(X, y, random_state=42)\n",
    "\n",
    "log_reg = LogisticRegression(random_state=42)\n",
    "log_reg.fit(X_train, y_train)"
   ]
  },
  {
   "cell_type": "code",
   "execution_count": 64,
   "id": "6041ecbb",
   "metadata": {},
   "outputs": [
    {
     "data": {
      "image/png": "[encoded data removed]",
      "text/plain": [
       "<Figure size 576x216 with 1 Axes>"
      ]
     },
     "metadata": {
      "needs_background": "light"
     },
     "output_type": "display_data"
    }
   ],
   "source": [
    "# look at estimated probabilities for petal widths between 0 cm and 3 cm\n",
    "\n",
    "X_new = np.linspace(0, 3, 1000).reshape(-1, 1)  # reshape to get a column vector\n",
    "y_proba = log_reg.predict_proba(X_new)\n",
    "decision_boundary = X_new[y_proba[:, 1] >= 0.5][0, 0]\n",
    "\n",
    "plt.figure(figsize=(8, 3))  # extra code – not needed, just formatting\n",
    "plt.plot(X_new, y_proba[:, 0], \"b--\", linewidth=2,\n",
    "         label=\"Not Iris virginica proba\")\n",
    "plt.plot(X_new, y_proba[:, 1], \"g-\", linewidth=2, label=\"Iris virginica proba\")\n",
    "plt.plot([decision_boundary, decision_boundary], [0, 1], \"k:\", linewidth=2,\n",
    "         label=\"Decision boundary\")\n",
    "\n",
    "# extra code – this section beautifies the logit reg plot\n",
    "plt.arrow(x=decision_boundary, y=0.08, dx=-0.3, dy=0,\n",
    "          head_width=0.05, head_length=0.1, fc=\"b\", ec=\"b\")\n",
    "plt.arrow(x=decision_boundary, y=0.92, dx=0.3, dy=0,\n",
    "          head_width=0.05, head_length=0.1, fc=\"g\", ec=\"g\")\n",
    "plt.plot(X_train[y_train == 0], y_train[y_train == 0], \"bs\")\n",
    "plt.plot(X_train[y_train == 1], y_train[y_train == 1], \"g^\")\n",
    "plt.xlabel(\"Petal width (cm)\")\n",
    "plt.ylabel(\"Probability\")\n",
    "plt.legend(loc=\"center left\")\n",
    "plt.axis([0, 3, -0.02, 1.02])\n",
    "plt.grid()\n",
    "plt.show()"
   ]
  },
  {
   "cell_type": "markdown",
   "id": "1159e8ce",
   "metadata": {},
   "source": [
    "At above ~2cm the classifier is highly confident that the flower is an *Iris virginica*, while below ~1cm if is highly confident that the flower is not an *Iris virginica*. Between these lengths, however, the classifier is unsure. However, if you ask it to predict the class, it will return whichever class is the most likely. Therefore, there is a decision boundary at around 1.6 cm where both probabilities are equal to 50%. A prediction will be made, even if there is low confidence."
   ]
  },
  {
   "cell_type": "code",
   "execution_count": 65,
   "id": "d810e040",
   "metadata": {},
   "outputs": [
    {
     "data": {
      "text/plain": [
       "1.6516516516516517"
      ]
     },
     "execution_count": 65,
     "metadata": {},
     "output_type": "execute_result"
    }
   ],
   "source": [
    "decision_boundary"
   ]
  },
  {
   "cell_type": "code",
   "execution_count": 66,
   "id": "b624fcff",
   "metadata": {},
   "outputs": [
    {
     "data": {
      "text/plain": [
       "array([ True, False])"
      ]
     },
     "execution_count": 66,
     "metadata": {},
     "output_type": "execute_result"
    }
   ],
   "source": [
    "log_reg.predict([[1.7], [1.5]])"
   ]
  },
  {
   "cell_type": "markdown",
   "id": "ea584a6c",
   "metadata": {},
   "source": [
    "Just like the other linear models, logistic regression models can be regularized using $\\ell_1$ or $\\ell_2$ penalties. Scikit-Learn  adds an $\\ell_1$ penalty by default."
   ]
  },
  {
   "cell_type": "markdown",
   "id": "3448693d",
   "metadata": {},
   "source": [
    "### Softmax Regression\n",
    "\n",
    "The logit regression model can be generalized to support multiple classes directly, without having to train and combine multiple binary classifiers. This is called *softmax regression*, or multinomial logistic regression."
   ]
  }
 ],
 "metadata": {
  "kernelspec": {
   "display_name": "mlms2023",
   "language": "python",
   "name": "mlms2023"
  },
  "language_info": {
   "codemirror_mode": {
    "name": "ipython",
    "version": 3
   },
   "file_extension": ".py",
   "mimetype": "text/x-python",
   "name": "python",
   "nbconvert_exporter": "python",
   "pygments_lexer": "ipython3",
   "version": "3.9.7"
  }
 },
 "nbformat": 4,
 "nbformat_minor": 5
}
